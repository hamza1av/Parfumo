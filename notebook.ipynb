{
 "cells": [
  {
   "cell_type": "code",
   "execution_count": 24,
   "metadata": {},
   "outputs": [],
   "source": [
    "import json\n",
    "import pandas as pd"
   ]
  },
  {
   "cell_type": "code",
   "execution_count": 17,
   "metadata": {},
   "outputs": [],
   "source": [
    "with open('perfumes.json') as f:\n",
    "    data = json.load(f)\n",
    "\n",
    "df = pd.json_normalize(data)\n",
    "# ---\n",
    "with open('corrected_perfumes.json') as f:\n",
    "    data = json.load(f)\n",
    "\n",
    "df = pd.json_normalize(data)"
   ]
  },
  {
   "cell_type": "code",
   "execution_count": 18,
   "metadata": {},
   "outputs": [
    {
     "name": "stdout",
     "output_type": "stream",
     "text": [
      "Index(['name', 'brand', 'year', 'collection', 'flakon_designer', 'perfumer',\n",
      "       'top_notes', 'middle_notes', 'base_notes', 'all_notes',\n",
      "       ...\n",
      "       'pricing', 'Aquatisch', 'Fougère', 'Gourmand', 'Harzig', 'Chypre',\n",
      "       'scent', 'sillage', 'bottle', 'durability'],\n",
      "      dtype='object', length=116)\n"
     ]
    }
   ],
   "source": [
    "df = df.drop(df.filter(regex='^scent_strength').columns, axis=1)\n",
    "\n",
    "df.columns = df.columns.str.replace(r'^[^.]+\\.', '', regex=True)\n",
    "\n",
    "print(df.columns)\n"
   ]
  },
  {
   "cell_type": "code",
   "execution_count": 22,
   "metadata": {},
   "outputs": [],
   "source": [
    "df.to_excel(\"new_perfumes.xlsx\", sheet_name=\"Sheet1\", index=False)"
   ]
  },
  {
   "cell_type": "code",
   "execution_count": 23,
   "metadata": {},
   "outputs": [
    {
     "name": "stdout",
     "output_type": "stream",
     "text": [
      "                                                   name                     brand  Frisch  Duft.rating  Haltbarkeit.rating  Sillage.rating\n",
      "1641                                  Casamorati - 1888                   XerJoff   27.07          8.2                 8.4             7.9\n",
      "749                                          Grand Soir  Maison Francis Kurkdjian   22.71          8.6                 8.8             8.3\n",
      "118   Casamorati - Dolce Amalfi XerJoff 2017 Eau de ...                   XerJoff   22.62          8.0                 8.2             7.7\n",
      "963            Beau de Jour Tom Ford 2019 Eau de Parfum                  Tom Ford   21.72          8.2                 8.1             7.7\n",
      "1336                                        Tobacco Oud                  Tom Ford   21.53          8.0                 8.5             8.0\n",
      "1043                                              Rehab                    Initio   18.38          8.3                 8.0             7.6\n",
      "742                   Gentleman Givenchy Réserve Privée                  Givenchy   18.09          8.3                 7.9             7.6\n",
      "789                   Gentleman Givenchy Réserve Privée                  Givenchy   17.18          8.3                 7.9             7.6\n",
      "529                              Le Vestiaire - Babycat        Yves Saint Laurent   15.02          8.3                 8.5             8.1\n",
      "1232        Elysium pour Homme Roja Parfums 2017 Parfum              Roja Parfums   10.60          8.9                 8.1             7.6\n",
      "1476                                       Intense Cafe                   Montale    7.87          7.7                 8.6             8.3\n",
      "1485                                               Fars                   XerJoff    7.67          8.2                 8.4             7.9\n",
      "1805      Emporio Armani - Stronger With You Absolutely            Giorgio Armani    6.37          8.3                 8.4             8.1\n",
      "217                                             Paragon                    Initio     NaN          8.3                 8.1             7.6\n",
      "269                                        Oud Maracujá           Maison Crivelli     NaN          8.3                 9.2             8.9\n",
      "299                                     L'Homme Intense                     Prada     NaN          8.3                 8.1             7.7\n",
      "332                             Bentley for Men Intense                   Bentley     NaN          7.6                 8.4             8.0\n",
      "455    Ganymede Marc-Antoine Barrois 2019 Eau de Parfum      Marc-Antoine Barrois     NaN          8.1                 8.7             8.3\n",
      "829                                             Sillage          Kinetic Perfumes     NaN          8.7                 8.5             8.2\n",
      "913                                         La Capitale                   XerJoff     NaN          8.2                 8.4             8.0\n"
     ]
    }
   ],
   "source": [
    "KRITERIUM = 'Frisch'\n",
    "ANZ_DUFT_RATINGS = 1000\n",
    "crit =  KRITERIUM \n",
    "duft = 'Duft' + '.rating'\n",
    "duft_ratings = 'Duft' + '.number_of_ratings'\n",
    "haltbarkeit = 'Haltbarkeit' + '.rating'\n",
    "sillage = 'Sillage' + '.rating'\n",
    "\n",
    "filtered_df = df[\n",
    "    (df[duft] > 7.5) & \n",
    "    (df[haltbarkeit] > 7.5) & \n",
    "    (df[sillage] > 7.5) & \n",
    "    (df[duft_ratings] > ANZ_DUFT_RATINGS)\n",
    "    ].sort_values(by=crit, ascending=False)\n",
    "\n",
    "# Select specific columns and show the first 10 rows\n",
    "result = filtered_df[['name', 'brand', crit, duft, haltbarkeit, sillage]].head(20)\n",
    "\n",
    "# Print result\n",
    "pd.set_option('display.width', 250)  # Set the max width (adjust as needed)\n",
    "pd.set_option('display.max_columns', None)  # Ensure all columns are displayed\n",
    "print(result)"
   ]
  },
  {
   "cell_type": "code",
   "execution_count": null,
   "metadata": {},
   "outputs": [],
   "source": []
  },
  {
   "cell_type": "code",
   "execution_count": null,
   "metadata": {},
   "outputs": [],
   "source": []
  },
  {
   "cell_type": "code",
   "execution_count": null,
   "metadata": {},
   "outputs": [],
   "source": []
  }
 ],
 "metadata": {
  "kernelspec": {
   "display_name": "Python 3",
   "language": "python",
   "name": "python3"
  },
  "language_info": {
   "codemirror_mode": {
    "name": "ipython",
    "version": 3
   },
   "file_extension": ".py",
   "mimetype": "text/x-python",
   "name": "python",
   "nbconvert_exporter": "python",
   "pygments_lexer": "ipython3",
   "version": "3.12.0"
  }
 },
 "nbformat": 4,
 "nbformat_minor": 2
}
