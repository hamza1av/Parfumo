{
 "cells": [
  {
   "cell_type": "code",
   "execution_count": 33,
   "metadata": {},
   "outputs": [],
   "source": [
    "import json\n",
    "import pandas as pd"
   ]
  },
  {
   "cell_type": "code",
   "execution_count": 34,
   "metadata": {},
   "outputs": [],
   "source": [
    "with open('perfumes.json') as f:\n",
    "    data = json.load(f)\n",
    "\n",
    "df = pd.json_normalize(data)"
   ]
  },
  {
   "cell_type": "code",
   "execution_count": 37,
   "metadata": {},
   "outputs": [
    {
     "name": "stdout",
     "output_type": "stream",
     "text": [
      "Index(['name', 'brand', 'year', 'top_notes', 'middle_notes', 'base_notes', 'all_notes', 'url', 'DUFT.rating', 'DUFT.number_of_ratings', 'HALTBARKEIT.rating', 'HALTBARKEIT.number_of_ratings', 'SILLAGE.rating', 'SILLAGE.number_of_ratings',\n",
      "       'FLAKON.rating', 'FLAKON.number_of_ratings', 'PREIS-LEISTUNGS-VERHÄLTNIS.rating', 'PREIS-LEISTUNGS-VERHÄLTNIS.number_of_ratings', 'Würzig', 'Synthetisch', 'Süß', 'Holzig', 'Fruchtig', 'Frisch', 'Blumig', 'Damen', 'Klassisch', 'Modern',\n",
      "       'Winter', 'Herbst', 'Sommer', 'Frühling', 'Täglich', 'Freizeit', 'Ausgehen', 'Arbeit', 'Abend', 'Gourmand', 'Cremig', 'Zitrus', 'Grün', 'Aquatisch', 'Herren', 'Sport', 'Pudrig', 'Orientalisch', 'Rauchig', 'Erdig', 'Ledrig', 'Harzig',\n",
      "       'Animalisch', 'Fougère', 'Chypre'],\n",
      "      dtype='object')\n"
     ]
    }
   ],
   "source": [
    "df = df.drop(df.filter(regex='^scent_strength').columns, axis=1)\n",
    "\n",
    "df.columns = df.columns.str.replace(r'^[^.]+\\.', '', regex=True)\n",
    "\n",
    "print(df.columns)\n"
   ]
  },
  {
   "cell_type": "code",
   "execution_count": 9,
   "metadata": {},
   "outputs": [],
   "source": [
    "df.to_excel(\"perfumes.xlsx\", sheet_name=\"Sheet1\", index=False)"
   ]
  },
  {
   "cell_type": "code",
   "execution_count": 59,
   "metadata": {},
   "outputs": [
    {
     "name": "stdout",
     "output_type": "stream",
     "text": [
      "                         name                     brand  Frisch  DUFT.rating  HALTBARKEIT.rating  SILLAGE.rating\n",
      "3022              Imagination             Louis Vuitton    29.0          8.9                 7.8             7.6\n",
      "1064                  Sauvage                      Dior    26.0          7.7                 8.0             7.8\n",
      "1671          Orange Flamingo              Marc Gebauer    25.0          8.0                 9.0             8.5\n",
      "1426                     Eros                   Versace    24.0          7.8                 7.7             7.6\n",
      "3434       Elysium pour Homme              Roja Parfums    22.0          8.9                 8.1             7.6\n",
      "4162             Beau de Jour                  Tom Ford    16.0          8.2                 8.1             7.7\n",
      "3375        Le Beau Le Parfum        Jean Paul Gaultier    15.0          8.0                 8.1             7.8\n",
      "3937                   Delina          Parfums de Marly    13.0          8.0                 8.5             8.3\n",
      "4074           Sauvage Elixir                      Dior    12.0          8.1                 9.1             8.8\n",
      "1078               Eros Flame                   Versace    11.0          7.8                 7.8             7.6\n",
      "3623            Reflection 45                   Amouage    11.0          8.8                 8.8             7.8\n",
      "659              Sunshine Man                   Amouage    10.0          7.9                 8.7             8.3\n",
      "4186          L'Homme Intense                     Prada     8.0          8.3                 8.2             7.7\n",
      "259                      Fars                   XerJoff     NaN          8.2                 8.4             7.9\n",
      "304   Bentley for Men Intense                   Bentley     NaN          7.6                 8.4             8.1\n",
      "363         Casamorati - 1888                   XerJoff     NaN          8.2                 8.4             7.9\n",
      "504              Intense Cafe                   Montale     NaN          7.7                 8.6             8.3\n",
      "677         Spicebomb Extreme             Viktor & Rolf     NaN          8.4                 8.4             8.3\n",
      "679                Ultra Mâle        Jean Paul Gaultier     NaN          7.9                 8.3             8.2\n",
      "909                Grand Soir  Maison Francis Kurkdjian     NaN          8.6                 8.8             8.3\n"
     ]
    }
   ],
   "source": [
    "KRITERIUM = 'Frisch'\n",
    "ANZ_DUFT_RATINGS = 1000\n",
    "crit =  KRITERIUM \n",
    "duft = 'DUFT' + '.rating'\n",
    "duft_ratings = 'DUFT' + '.number_of_ratings'\n",
    "haltbarkeit = 'HALTBARKEIT' + '.rating'\n",
    "sillage = 'SILLAGE' + '.rating'\n",
    "\n",
    "filtered_df = df[\n",
    "    (df[duft] > 7.5) & \n",
    "    (df[haltbarkeit] > 7.5) & \n",
    "    (df[sillage] > 7.5) & \n",
    "    (df[duft_ratings] > ANZ_DUFT_RATINGS)\n",
    "    ].sort_values(by=crit, ascending=False)\n",
    "\n",
    "# Select specific columns and show the first 10 rows\n",
    "result = filtered_df[['name', 'brand', crit, duft, haltbarkeit, sillage]].head(20)\n",
    "\n",
    "# Print result\n",
    "pd.set_option('display.width', 250)  # Set the max width (adjust as needed)\n",
    "pd.set_option('display.max_columns', None)  # Ensure all columns are displayed\n",
    "print(result)"
   ]
  },
  {
   "cell_type": "code",
   "execution_count": null,
   "metadata": {},
   "outputs": [],
   "source": []
  }
 ],
 "metadata": {
  "kernelspec": {
   "display_name": "Python 3",
   "language": "python",
   "name": "python3"
  },
  "language_info": {
   "codemirror_mode": {
    "name": "ipython",
    "version": 3
   },
   "file_extension": ".py",
   "mimetype": "text/x-python",
   "name": "python",
   "nbconvert_exporter": "python",
   "pygments_lexer": "ipython3",
   "version": "3.12.0"
  }
 },
 "nbformat": 4,
 "nbformat_minor": 2
}
