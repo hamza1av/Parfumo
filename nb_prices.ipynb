{
 "cells": [
  {
   "cell_type": "code",
   "execution_count": 1,
   "metadata": {},
   "outputs": [],
   "source": [
    "import polars as pl\n",
    "import pandas as pd\n",
    "import matplotlib.pyplot as plt\n",
    "import seaborn as sns\n",
    "import numpy as np"
   ]
  },
  {
   "cell_type": "code",
   "execution_count": 98,
   "metadata": {},
   "outputs": [],
   "source": [
    "df = pl.read_csv('data/idealo_prices.csv')\n",
    "# df = pd.read_csv('data/idealo_prices.csv')"
   ]
  },
  {
   "cell_type": "code",
   "execution_count": 99,
   "metadata": {},
   "outputs": [
    {
     "data": {
      "text/html": [
       "<div><style>\n",
       ".dataframe > thead > tr,\n",
       ".dataframe > tbody > tr {\n",
       "  text-align: right;\n",
       "  white-space: pre-wrap;\n",
       "}\n",
       "</style>\n",
       "<small>shape: (5, 102)</small><table border=\"1\" class=\"dataframe\"><thead><tr><th></th><th>brand</th><th>perfume_name</th><th>price_100ml</th><th>price_50ml</th><th>price_150ml</th><th>price_125ml</th><th>price_75ml</th><th>price_200ml</th><th>price_30ml</th><th>price_10ml</th><th>price_250ml</th><th>price_60ml</th><th>price_90ml</th><th>price_15ml</th><th>price_70ml</th><th>price_35ml</th><th>price_33ml</th><th>price_80ml</th><th>price_180ml</th><th>price_40ml</th><th>price_5ml</th><th>price_105ml</th><th>price_18ml</th><th>price_300ml</th><th>price_20ml</th><th>price_120ml</th><th>price_25ml</th><th>price_140ml</th><th>price_400ml</th><th>price_1000ml</th><th>price_175ml</th><th>price_500ml</th><th>price_800ml</th><th>price_8ml</th><th>price_110ml</th><th>price_16ml</th><th>&hellip;</th><th>price_350ml</th><th>price_14ml</th><th>price_113ml</th><th>price_135ml</th><th>price_28ml</th><th>price_96ml</th><th>price_87ml</th><th>price_92ml</th><th>price_97ml</th><th>price_3.7ml</th><th>price_600ml</th><th>price_24ml</th><th>price_245ml</th><th>price_44ml</th><th>price_9ml</th><th>price_74ml</th><th>price_32ml</th><th>price_2ml</th><th>price_450ml</th><th>price_700ml</th><th>price_78ml</th><th>price_177ml</th><th>price_434ml</th><th>price_29ml</th><th>price_194ml</th><th>price_490ml</th><th>price_945ml</th><th>price_230ml</th><th>price_385ml</th><th>price_625ml</th><th>price_320ml</th><th>price_480ml</th><th>price_68ml</th><th>price_330ml</th><th>price_235ml</th><th>price_355ml</th><th>price_57ml</th></tr><tr><td>i64</td><td>str</td><td>str</td><td>str</td><td>str</td><td>str</td><td>str</td><td>str</td><td>str</td><td>str</td><td>str</td><td>str</td><td>str</td><td>str</td><td>str</td><td>str</td><td>str</td><td>str</td><td>str</td><td>str</td><td>str</td><td>str</td><td>str</td><td>str</td><td>str</td><td>str</td><td>str</td><td>str</td><td>str</td><td>str</td><td>str</td><td>str</td><td>str</td><td>str</td><td>str</td><td>str</td><td>str</td><td>&hellip;</td><td>str</td><td>str</td><td>str</td><td>str</td><td>str</td><td>str</td><td>str</td><td>str</td><td>str</td><td>str</td><td>str</td><td>str</td><td>str</td><td>str</td><td>str</td><td>str</td><td>str</td><td>str</td><td>str</td><td>str</td><td>str</td><td>str</td><td>str</td><td>str</td><td>str</td><td>str</td><td>str</td><td>str</td><td>str</td><td>str</td><td>str</td><td>str</td><td>str</td><td>str</td><td>str</td><td>str</td><td>str</td></tr></thead><tbody><tr><td>0</td><td>&quot;XerJoff&quot;</td><td>&quot;Naxos&quot;</td><td>&quot;167,90 €&quot;</td><td>null</td><td>null</td><td>null</td><td>null</td><td>null</td><td>null</td><td>null</td><td>null</td><td>null</td><td>null</td><td>null</td><td>null</td><td>null</td><td>null</td><td>null</td><td>null</td><td>null</td><td>null</td><td>null</td><td>null</td><td>null</td><td>null</td><td>null</td><td>null</td><td>null</td><td>null</td><td>null</td><td>null</td><td>null</td><td>null</td><td>null</td><td>null</td><td>null</td><td>&hellip;</td><td>null</td><td>null</td><td>null</td><td>null</td><td>null</td><td>null</td><td>null</td><td>null</td><td>null</td><td>null</td><td>null</td><td>null</td><td>null</td><td>null</td><td>null</td><td>null</td><td>null</td><td>null</td><td>null</td><td>null</td><td>null</td><td>null</td><td>null</td><td>null</td><td>null</td><td>null</td><td>null</td><td>null</td><td>null</td><td>null</td><td>null</td><td>null</td><td>null</td><td>null</td><td>null</td><td>null</td><td>null</td></tr><tr><td>1</td><td>&quot;Dior&quot;</td><td>&quot;Dior Homme Intense&quot;</td><td>&quot;97,94 €&quot;</td><td>&quot;72,49 €&quot;</td><td>&quot;113,94 €&quot;</td><td>null</td><td>null</td><td>null</td><td>null</td><td>null</td><td>null</td><td>null</td><td>null</td><td>null</td><td>null</td><td>null</td><td>null</td><td>null</td><td>null</td><td>null</td><td>null</td><td>null</td><td>null</td><td>null</td><td>null</td><td>null</td><td>null</td><td>null</td><td>null</td><td>null</td><td>null</td><td>null</td><td>null</td><td>null</td><td>null</td><td>null</td><td>&hellip;</td><td>null</td><td>null</td><td>null</td><td>null</td><td>null</td><td>null</td><td>null</td><td>null</td><td>null</td><td>null</td><td>null</td><td>null</td><td>null</td><td>null</td><td>null</td><td>null</td><td>null</td><td>null</td><td>null</td><td>null</td><td>null</td><td>null</td><td>null</td><td>null</td><td>null</td><td>null</td><td>null</td><td>null</td><td>null</td><td>null</td><td>null</td><td>null</td><td>null</td><td>null</td><td>null</td><td>null</td><td>null</td></tr><tr><td>2</td><td>&quot;Parfums de Marly&quot;</td><td>&quot;Layton&quot;</td><td>null</td><td>null</td><td>null</td><td>&quot;219,95 €&quot;</td><td>&quot;188,99 €&quot;</td><td>&quot;359,99 €&quot;</td><td>&quot;115,00 €&quot;</td><td>null</td><td>null</td><td>null</td><td>null</td><td>null</td><td>null</td><td>null</td><td>null</td><td>null</td><td>null</td><td>null</td><td>null</td><td>null</td><td>null</td><td>null</td><td>null</td><td>null</td><td>null</td><td>null</td><td>null</td><td>null</td><td>null</td><td>null</td><td>null</td><td>null</td><td>null</td><td>null</td><td>&hellip;</td><td>null</td><td>null</td><td>null</td><td>null</td><td>null</td><td>null</td><td>null</td><td>null</td><td>null</td><td>null</td><td>null</td><td>null</td><td>null</td><td>null</td><td>null</td><td>null</td><td>null</td><td>null</td><td>null</td><td>null</td><td>null</td><td>null</td><td>null</td><td>null</td><td>null</td><td>null</td><td>null</td><td>null</td><td>null</td><td>null</td><td>null</td><td>null</td><td>null</td><td>null</td><td>null</td><td>null</td><td>null</td></tr><tr><td>3</td><td>&quot;Creed&quot;</td><td>&quot;Aventus&quot;</td><td>&quot;248,00 €&quot;</td><td>&quot;178,50 €&quot;</td><td>null</td><td>null</td><td>&quot;260,10 €&quot;</td><td>null</td><td>&quot;165,00 €&quot;</td><td>null</td><td>null</td><td>null</td><td>null</td><td>null</td><td>null</td><td>null</td><td>null</td><td>null</td><td>null</td><td>null</td><td>null</td><td>null</td><td>null</td><td>null</td><td>null</td><td>null</td><td>null</td><td>null</td><td>null</td><td>null</td><td>null</td><td>null</td><td>null</td><td>null</td><td>null</td><td>null</td><td>&hellip;</td><td>null</td><td>null</td><td>null</td><td>null</td><td>null</td><td>null</td><td>null</td><td>null</td><td>null</td><td>null</td><td>null</td><td>null</td><td>null</td><td>null</td><td>null</td><td>null</td><td>null</td><td>null</td><td>null</td><td>null</td><td>null</td><td>null</td><td>null</td><td>null</td><td>null</td><td>null</td><td>null</td><td>null</td><td>null</td><td>null</td><td>null</td><td>null</td><td>null</td><td>null</td><td>null</td><td>null</td><td>null</td></tr><tr><td>4</td><td>&quot;Prada&quot;</td><td>&quot;L&#x27;Homme&quot;</td><td>&quot;74,99 €&quot;</td><td>&quot;55,17 €&quot;</td><td>&quot;87,43 €&quot;</td><td>null</td><td>null</td><td>null</td><td>null</td><td>null</td><td>null</td><td>null</td><td>null</td><td>null</td><td>null</td><td>null</td><td>null</td><td>null</td><td>null</td><td>null</td><td>null</td><td>null</td><td>null</td><td>null</td><td>null</td><td>null</td><td>null</td><td>null</td><td>null</td><td>null</td><td>null</td><td>null</td><td>null</td><td>null</td><td>null</td><td>null</td><td>&hellip;</td><td>null</td><td>null</td><td>null</td><td>null</td><td>null</td><td>null</td><td>null</td><td>null</td><td>null</td><td>null</td><td>null</td><td>null</td><td>null</td><td>null</td><td>null</td><td>null</td><td>null</td><td>null</td><td>null</td><td>null</td><td>null</td><td>null</td><td>null</td><td>null</td><td>null</td><td>null</td><td>null</td><td>null</td><td>null</td><td>null</td><td>null</td><td>null</td><td>null</td><td>null</td><td>null</td><td>null</td><td>null</td></tr></tbody></table></div>"
      ],
      "text/plain": [
       "shape: (5, 102)\n",
       "┌─────┬────────────┬────────────┬────────────┬───┬────────────┬────────────┬───────────┬───────────┐\n",
       "│     ┆ brand      ┆ perfume_na ┆ price_100m ┆ … ┆ price_330m ┆ price_235m ┆ price_355 ┆ price_57m │\n",
       "│ --- ┆ ---        ┆ me         ┆ l          ┆   ┆ l          ┆ l          ┆ ml        ┆ l         │\n",
       "│ i64 ┆ str        ┆ ---        ┆ ---        ┆   ┆ ---        ┆ ---        ┆ ---       ┆ ---       │\n",
       "│     ┆            ┆ str        ┆ str        ┆   ┆ str        ┆ str        ┆ str       ┆ str       │\n",
       "╞═════╪════════════╪════════════╪════════════╪═══╪════════════╪════════════╪═══════════╪═══════════╡\n",
       "│ 0   ┆ XerJoff    ┆ Naxos      ┆ 167,90 €   ┆ … ┆ null       ┆ null       ┆ null      ┆ null      │\n",
       "│ 1   ┆ Dior       ┆ Dior Homme ┆ 97,94 €    ┆ … ┆ null       ┆ null       ┆ null      ┆ null      │\n",
       "│     ┆            ┆ Intense    ┆            ┆   ┆            ┆            ┆           ┆           │\n",
       "│ 2   ┆ Parfums de ┆ Layton     ┆ null       ┆ … ┆ null       ┆ null       ┆ null      ┆ null      │\n",
       "│     ┆ Marly      ┆            ┆            ┆   ┆            ┆            ┆           ┆           │\n",
       "│ 3   ┆ Creed      ┆ Aventus    ┆ 248,00 €   ┆ … ┆ null       ┆ null       ┆ null      ┆ null      │\n",
       "│ 4   ┆ Prada      ┆ L'Homme    ┆ 74,99 €    ┆ … ┆ null       ┆ null       ┆ null      ┆ null      │\n",
       "└─────┴────────────┴────────────┴────────────┴───┴────────────┴────────────┴───────────┴───────────┘"
      ]
     },
     "execution_count": 99,
     "metadata": {},
     "output_type": "execute_result"
    }
   ],
   "source": [
    "df.head()"
   ]
  },
  {
   "cell_type": "code",
   "execution_count": 83,
   "metadata": {},
   "outputs": [
    {
     "name": "stdout",
     "output_type": "stream",
     "text": [
      "shape: (10, 102)\n",
      "┌──────┬────────────┬────────────┬────────────┬───┬────────────┬───────────┬───────────┬───────────┐\n",
      "│      ┆ brand      ┆ perfume_na ┆ price_100m ┆ … ┆ price_330m ┆ price_235 ┆ price_355 ┆ price_57m │\n",
      "│ ---  ┆ ---        ┆ me         ┆ l          ┆   ┆ l          ┆ ml        ┆ ml        ┆ l         │\n",
      "│ i64  ┆ str        ┆ ---        ┆ ---        ┆   ┆ ---        ┆ ---       ┆ ---       ┆ ---       │\n",
      "│      ┆            ┆ str        ┆ str        ┆   ┆ str        ┆ str       ┆ str       ┆ str       │\n",
      "╞══════╪════════════╪════════════╪════════════╪═══╪════════════╪═══════════╪═══════════╪═══════════╡\n",
      "│ 1412 ┆ Roja       ┆ NüWa       ┆ 1.020,00 € ┆ … ┆ null       ┆ null      ┆ null      ┆ null      │\n",
      "│      ┆ Parfums    ┆            ┆            ┆   ┆            ┆           ┆           ┆           │\n",
      "│ 1622 ┆ Roja       ┆ Qatar      ┆ 1.187,06 € ┆ … ┆ null       ┆ null      ┆ null      ┆ null      │\n",
      "│      ┆ Parfums    ┆            ┆            ┆   ┆            ┆           ┆           ┆           │\n",
      "│ 1862 ┆ Roja       ┆ Chypré Ext ┆ 3.025,00 € ┆ … ┆ null       ┆ null      ┆ null      ┆ null      │\n",
      "│      ┆ Parfums    ┆ raordinair ┆            ┆   ┆            ┆           ┆           ┆           │\n",
      "│      ┆            ┆ e          ┆            ┆   ┆            ┆           ┆           ┆           │\n",
      "│ 2372 ┆ The Spirit ┆ Dubai -    ┆ null       ┆ … ┆ null       ┆ null      ┆ null      ┆ null      │\n",
      "│      ┆ of Dubai   ┆ Ajyal      ┆            ┆   ┆            ┆           ┆           ┆           │\n",
      "│ 2944 ┆ The Spirit ┆ Dubai -    ┆ null       ┆ … ┆ null       ┆ null      ┆ null      ┆ null      │\n",
      "│      ┆ of Dubai   ┆ Oud        ┆            ┆   ┆            ┆           ┆           ┆           │\n",
      "│ 3542 ┆ Boadicea   ┆ Valiant    ┆ 1.080,00 € ┆ … ┆ null       ┆ null      ┆ null      ┆ null      │\n",
      "│      ┆ the        ┆            ┆            ┆   ┆            ┆           ┆           ┆           │\n",
      "│      ┆ Victorious ┆            ┆            ┆   ┆            ┆           ┆           ┆           │\n",
      "│ 4411 ┆ Jean Patou ┆ Joy        ┆ null       ┆ … ┆ null       ┆ null      ┆ null      ┆ null      │\n",
      "│ 4792 ┆ Boadicea   ┆ Hanuman    ┆ 1.080,00 € ┆ … ┆ null       ┆ null      ┆ null      ┆ null      │\n",
      "│      ┆ the        ┆            ┆            ┆   ┆            ┆           ┆           ┆           │\n",
      "│      ┆ Victorious ┆            ┆            ┆   ┆            ┆           ┆           ┆           │\n",
      "│ 5429 ┆ Roja       ┆ Roja Dove  ┆ 3.025,00 € ┆ … ┆ null       ┆ null      ┆ null      ┆ null      │\n",
      "│      ┆ Parfums    ┆ Haute      ┆            ┆   ┆            ┆           ┆           ┆           │\n",
      "│      ┆            ┆ Parfumerie ┆            ┆   ┆            ┆           ┆           ┆           │\n",
      "│ 5745 ┆ Jean Patou ┆ Enjoy      ┆ null       ┆ … ┆ null       ┆ null      ┆ null      ┆ null      │\n",
      "└──────┴────────────┴────────────┴────────────┴───┴────────────┴───────────┴───────────┴───────────┘\n"
     ]
    }
   ],
   "source": [
    "# Define the regex pattern\n",
    "pattern = r\"\\d+\\.\\d\\d\\d,\\d\\d\"\n",
    "\n",
    "# Filter rows where any column matches the pattern\n",
    "df_filtered = df.filter(\n",
    "    pl.any_horizontal([df[col].str.contains(pattern, strict=False) for col in df.columns if df[col].dtype == pl.Utf8])\n",
    ")\n",
    "\n",
    "# Print the filtered DataFrame\n",
    "print(df_filtered)"
   ]
  },
  {
   "cell_type": "code",
   "execution_count": 100,
   "metadata": {},
   "outputs": [
    {
     "name": "stdout",
     "output_type": "stream",
     "text": [
      "shape: (9_167, 102)\n",
      "┌──────┬────────────┬────────────┬────────────┬───┬────────────┬───────────┬───────────┬───────────┐\n",
      "│      ┆ brand      ┆ perfume_na ┆ price_100m ┆ … ┆ price_330m ┆ price_235 ┆ price_355 ┆ price_57m │\n",
      "│ ---  ┆ ---        ┆ me         ┆ l          ┆   ┆ l          ┆ ml        ┆ ml        ┆ l         │\n",
      "│ i64  ┆ str        ┆ ---        ┆ ---        ┆   ┆ ---        ┆ ---       ┆ ---       ┆ ---       │\n",
      "│      ┆            ┆ str        ┆ f64        ┆   ┆ f64        ┆ f64       ┆ f64       ┆ f64       │\n",
      "╞══════╪════════════╪════════════╪════════════╪═══╪════════════╪═══════════╪═══════════╪═══════════╡\n",
      "│ 0    ┆ XerJoff    ┆ Naxos      ┆ 167.9      ┆ … ┆ null       ┆ null      ┆ null      ┆ null      │\n",
      "│ 1    ┆ Dior       ┆ Dior Homme ┆ 97.94      ┆ … ┆ null       ┆ null      ┆ null      ┆ null      │\n",
      "│      ┆            ┆ Intense    ┆            ┆   ┆            ┆           ┆           ┆           │\n",
      "│ 2    ┆ Parfums de ┆ Layton     ┆ null       ┆ … ┆ null       ┆ null      ┆ null      ┆ null      │\n",
      "│      ┆ Marly      ┆            ┆            ┆   ┆            ┆           ┆           ┆           │\n",
      "│ 3    ┆ Creed      ┆ Aventus    ┆ 248.0      ┆ … ┆ null       ┆ null      ┆ null      ┆ null      │\n",
      "│ 4    ┆ Prada      ┆ L'Homme    ┆ 74.99      ┆ … ┆ null       ┆ null      ┆ null      ┆ null      │\n",
      "│ …    ┆ …          ┆ …          ┆ …          ┆ … ┆ …          ┆ …         ┆ …         ┆ …         │\n",
      "│ 9162 ┆ Louis      ┆ Extreme    ┆ 24.99      ┆ … ┆ null       ┆ null      ┆ null      ┆ null      │\n",
      "│      ┆ Varel      ┆ Marine     ┆            ┆   ┆            ┆           ┆           ┆           │\n",
      "│ 9163 ┆ Pino       ┆ Pino       ┆ null       ┆ … ┆ null       ┆ null      ┆ null      ┆ null      │\n",
      "│      ┆ Silvestre  ┆ Silvestre  ┆            ┆   ┆            ┆           ┆           ┆           │\n",
      "│      ┆            ┆ Extreme    ┆            ┆   ┆            ┆           ┆           ┆           │\n",
      "│ 9164 ┆ Alfred     ┆ Sung Spa   ┆ 19.99      ┆ … ┆ null       ┆ null      ┆ null      ┆ null      │\n",
      "│      ┆ Sung       ┆            ┆            ┆   ┆            ┆           ┆           ┆           │\n",
      "│ 9165 ┆ Ella K     ┆ Lettre de  ┆ 211.61     ┆ … ┆ null       ┆ null      ┆ null      ┆ null      │\n",
      "│      ┆ Parfums    ┆ Pushkar    ┆            ┆   ┆            ┆           ┆           ┆           │\n",
      "│ 9166 ┆ Attar      ┆ Oasis      ┆ 74.95      ┆ … ┆ null       ┆ null      ┆ null      ┆ null      │\n",
      "│      ┆ Collection ┆            ┆            ┆   ┆            ┆           ┆           ┆           │\n",
      "└──────┴────────────┴────────────┴────────────┴───┴────────────┴───────────┴───────────┴───────────┘\n"
     ]
    }
   ],
   "source": [
    "\n",
    "# Function to clean and convert price columns\n",
    "def convert_price_column(series: pl.Series) -> pl.Series:\n",
    "    return (\n",
    "        series.str.replace(\"€\", \"\")   # Remove currency symbol\n",
    "              .str.replace(r\"(\\d)\\.(\\d{3})\", r\"${1}${2}\", literal=False)  # Remove thousands separator\n",
    "            #   .str.replace(\".\", \"\")   # Remove thousands separator\n",
    "              .str.replace(\" \", \"\")   # Remove thousands separator\n",
    "              .str.replace(\",\", \".\")  # Convert decimal separator\n",
    "            #   .str.strip_chars()      # Trim spaces\n",
    "              .cast(pl.Float64)       # Convert to float\n",
    "    )\n",
    "\n",
    "# Identify all price columns\n",
    "price_columns = [col for col in df.columns if col.startswith(\"price\")]\n",
    "\n",
    "# Apply transformation\n",
    "df = df.with_columns([convert_price_column(df[col]).alias(col) for col in price_columns])\n",
    "\n",
    "print(df)"
   ]
  },
  {
   "cell_type": "markdown",
   "metadata": {},
   "source": [
    "### 1️⃣ Price per Reference Volume (e.g., 100ml)\n",
    "\n",
    "This method adjusts all prices to a reference volume (e.g., 100ml) using a scaling factor that accounts for non-linearity.\n",
    "\n",
    "Steps:\n",
    "\n",
    "1.\tEstimate a scaling function: Larger bottles are often cheaper per ml than smaller ones. Use a power-law function\n",
    "\n",
    "$$\\text{price} = k \\text{size}^\\alpha$$ \n",
    "\n",
    "where $\\alpha < 1$\n",
    "\n",
    "2.\tNormalize prices to a reference volume (e.g., 100ml)."
   ]
  },
  {
   "cell_type": "markdown",
   "metadata": {},
   "source": [
    "### 2️⃣ Use Regression to Model Non-Linearity\n",
    "\n",
    "If you have historical data of bottle sizes and their prices, you can fit a non-linear regression to estimate how price per ml decreases with size.\n",
    "Then, use that function to compute a fair price representation for all perfumes."
   ]
  },
  {
   "cell_type": "markdown",
   "metadata": {},
   "source": [
    "This method takes the mean value of each column and then applies a regression model with\n",
    "$$\n",
    "k x^\\alpha\n",
    "$$"
   ]
  },
  {
   "cell_type": "code",
   "execution_count": 101,
   "metadata": {},
   "outputs": [],
   "source": [
    "import numpy as np\n",
    "import polars as pl\n",
    "import re\n",
    "from scipy.optimize import curve_fit\n",
    "\n",
    "def extract_price_data_from_df(df):\n",
    "    # Extract sizes from column names (in ml)\n",
    "    size_pattern = re.compile(r'price_(\\d+)ml')\n",
    "    \n",
    "    sizes = []\n",
    "    prices = []\n",
    "    \n",
    "    for column in df.columns:\n",
    "        match = size_pattern.match(column)\n",
    "        if match:\n",
    "            size = int(match.group(1))\n",
    "            # Get the average price value from this column\n",
    "            price = df.select(pl.col(column).mean()).item()\n",
    "            \n",
    "            sizes.append(size)\n",
    "            prices.append(price)\n",
    "    \n",
    "    return np.array(sizes), np.array(prices)\n",
    "\n",
    "# Define the power-law function for price modeling\n",
    "def price_model(x, k, alpha):\n",
    "    return k * x ** alpha\n",
    "\n",
    "def fit_price_curve(df):\n",
    "    # Extract sizes and prices from the dataframe\n",
    "    sizes, prices = extract_price_data_from_df(df)\n",
    "    \n",
    "    # Fit the curve\n",
    "    params, _ = curve_fit(price_model, sizes, prices)\n",
    "    k_opt, alpha_opt = params\n",
    "    \n",
    "    print(f\"Fitted model: price = {k_opt:.4f} * size^{alpha_opt:.4f}\")\n",
    "    \n",
    "    # Function to adjust prices based on the fitted model\n",
    "    def adjusted_price(size, reference_size, price):\n",
    "        \"\"\"\n",
    "        Adjust a price from one size to another using the fitted power-law model.\n",
    "        \n",
    "        Parameters:\n",
    "        size: The size you want to adjust from\n",
    "        reference_size: The size you want to adjust to\n",
    "        price: The original price at 'size'\n",
    "        \n",
    "        Returns:\n",
    "        Adjusted price for the reference_size\n",
    "        \"\"\"\n",
    "        return price * (reference_size / size) ** alpha_opt\n",
    "    \n",
    "    return k_opt, alpha_opt, adjusted_price\n",
    "\n",
    "# Example usage:\n",
    "# k, alpha, adjust_func = fit_price_curve(your_polars_dataframe)\n",
    "# new_price = adjust_func(100, 150, original_price)"
   ]
  },
  {
   "cell_type": "code",
   "execution_count": 102,
   "metadata": {},
   "outputs": [
    {
     "name": "stdout",
     "output_type": "stream",
     "text": [
      "Fitted model: price = 56.5176 * size^0.0003\n",
      "Original price for 100ml: $167.90\n",
      "Adjusted price for 50ml: $167.84\n"
     ]
    }
   ],
   "source": [
    "# Assuming your Polars dataframe is named 'df'\n",
    "k, alpha, adjust_price_func = fit_price_curve(df)\n",
    "\n",
    "# Example: Adjust a price from 100ml to 75ml\n",
    "original_price = df.select(pl.col(\"price_100ml\")).row(0)[0]  # Get a price from the 100ml column\n",
    "adjusted = adjust_price_func(150, 50, original_price)\n",
    "print(f\"Original price for 100ml: ${original_price:.2f}\")\n",
    "print(f\"Adjusted price for 50ml: ${adjusted:.2f}\")"
   ]
  },
  {
   "cell_type": "markdown",
   "metadata": {},
   "source": [
    "This method takes into account every row of the dataframe individuvally to preserve the row relationship of each bottle size"
   ]
  },
  {
   "cell_type": "code",
   "execution_count": 103,
   "metadata": {},
   "outputs": [],
   "source": [
    "import numpy as np\n",
    "import polars as pl\n",
    "import re\n",
    "from scipy.optimize import curve_fit\n",
    "\n",
    "def extract_price_data_from_df(df):\n",
    "    # Extract sizes from column names (in ml)\n",
    "    size_pattern = re.compile(r'price_(\\d+)ml')\n",
    "    \n",
    "    sizes = []\n",
    "    prices = []\n",
    "    \n",
    "    for column in df.columns:\n",
    "        match = size_pattern.match(column)\n",
    "        if match:\n",
    "            size = int(match.group(1))\n",
    "            # Get the average price value from this column\n",
    "\n",
    "            for row in df.iter_rows(named=True):  # Iterate over each row\n",
    "                price = row[column]  # Get the price value for the current row\n",
    "\n",
    "                if price is not None:  # Ensure it's not missing\n",
    "                    sizes.append(size)\n",
    "                    prices.append(price)\n",
    "    \n",
    "    return np.array(sizes), np.array(prices)\n",
    "\n",
    "# Define the power-law function for price modeling\n",
    "def price_model(x, k, alpha):\n",
    "    return k * x ** alpha\n",
    "\n",
    "def fit_price_curve(df):\n",
    "    # Extract sizes and prices from the dataframe\n",
    "    sizes, prices = extract_price_data_from_df(df)\n",
    "    \n",
    "    # Fit the curve\n",
    "    params, _ = curve_fit(price_model, sizes, prices)\n",
    "    k_opt, alpha_opt = params\n",
    "    \n",
    "    print(f\"Fitted model: price = {k_opt:.4f} * size^{alpha_opt:.4f}\")\n",
    "    \n",
    "    # Function to adjust prices based on the fitted model\n",
    "    def adjusted_price(size, reference_size, price):\n",
    "        \"\"\"\n",
    "        Adjust a price from one size to another using the fitted power-law model.\n",
    "        \n",
    "        Parameters:\n",
    "        size: The size you want to adjust from\n",
    "        reference_size: The size you want to adjust to\n",
    "        price: The original price at 'size'\n",
    "        \n",
    "        Returns:\n",
    "        Adjusted price for the reference_size\n",
    "        \"\"\"\n",
    "        return price * (reference_size / size) ** alpha_opt\n",
    "    \n",
    "    return k_opt, alpha_opt, adjusted_price\n",
    "\n",
    "# Example usage:\n",
    "# k, alpha, adjust_func = fit_price_curve(your_polars_dataframe)\n",
    "# new_price = adjust_func(100, 150, original_price)"
   ]
  },
  {
   "cell_type": "code",
   "execution_count": 104,
   "metadata": {},
   "outputs": [
    {
     "name": "stdout",
     "output_type": "stream",
     "text": [
      "Fitted model: price = 30.9315 * size^0.2195\n",
      "Original price for 100ml: $304.90\n",
      "Adjusted price for 50ml: $239.58\n"
     ]
    }
   ],
   "source": [
    "# Assuming your Polars dataframe is named 'df'\n",
    "k, alpha, adjust_price_func = fit_price_curve(df)\n",
    "\n",
    "# Example: Adjust a price from 100ml to 75ml\n",
    "original_price = df.select(pl.col(\"price_100ml\")).row(44)[0]  # Get a price from the 100ml column\n",
    "adjusted = adjust_price_func(150, 50, original_price)\n",
    "print(f\"Original price for 100ml: ${original_price:.2f}\")\n",
    "print(f\"Adjusted price for 50ml: ${adjusted:.2f}\")"
   ]
  },
  {
   "cell_type": "code",
   "execution_count": null,
   "metadata": {},
   "outputs": [],
   "source": []
  },
  {
   "cell_type": "markdown",
   "metadata": {},
   "source": [
    "Now we want to get the predicted price per 100ml also for the other brands"
   ]
  },
  {
   "cell_type": "code",
   "execution_count": 105,
   "metadata": {},
   "outputs": [],
   "source": [
    "size_pattern = re.compile(r\"price_(\\d+)ml\")\n",
    "\n",
    "def compute_adjusted_price(row):\n",
    "    price_per_100ml_list = []\n",
    "\n",
    "    for column in df.columns:\n",
    "        match = size_pattern.match(column)\n",
    "        if match:\n",
    "            size = int(match.group(1))\n",
    "            price = row[column]\n",
    "            if price is not None:\n",
    "                estimated_price = adjust_price_func(size, 100, price)\n",
    "                price_per_100ml_list.append(estimated_price)\n",
    "\n",
    "    return np.mean(price_per_100ml_list) if price_per_100ml_list else None\n"
   ]
  },
  {
   "cell_type": "code",
   "execution_count": 106,
   "metadata": {},
   "outputs": [
    {
     "name": "stdout",
     "output_type": "stream",
     "text": [
      "shape: (9_167, 103)\n",
      "┌──────┬────────────┬────────────┬────────────┬───┬────────────┬───────────┬───────────┬───────────┐\n",
      "│      ┆ brand      ┆ perfume_na ┆ price_100m ┆ … ┆ price_235m ┆ price_355 ┆ price_57m ┆ adjusted_ │\n",
      "│ ---  ┆ ---        ┆ me         ┆ l          ┆   ┆ l          ┆ ml        ┆ l         ┆ price_100 │\n",
      "│ i64  ┆ str        ┆ ---        ┆ ---        ┆   ┆ ---        ┆ ---       ┆ ---       ┆ ml        │\n",
      "│      ┆            ┆ str        ┆ f64        ┆   ┆ f64        ┆ f64       ┆ f64       ┆ ---       │\n",
      "│      ┆            ┆            ┆            ┆   ┆            ┆           ┆           ┆ f64       │\n",
      "╞══════╪════════════╪════════════╪════════════╪═══╪════════════╪═══════════╪═══════════╪═══════════╡\n",
      "│ 0    ┆ XerJoff    ┆ Naxos      ┆ 167.9      ┆ … ┆ null       ┆ null      ┆ null      ┆ 167.9     │\n",
      "│ 1    ┆ Dior       ┆ Dior Homme ┆ 97.94      ┆ … ┆ null       ┆ null      ┆ null      ┆ 95.526437 │\n",
      "│      ┆            ┆ Intense    ┆            ┆   ┆            ┆           ┆           ┆           │\n",
      "│ 2    ┆ Parfums de ┆ Layton     ┆ null       ┆ … ┆ null       ┆ null      ┆ null      ┆ 217.4284  │\n",
      "│      ┆ Marly      ┆            ┆            ┆   ┆            ┆           ┆           ┆           │\n",
      "│ 3    ┆ Creed      ┆ Aventus    ┆ 248.0      ┆ … ┆ null       ┆ null      ┆ null      ┆ 236.94527 │\n",
      "│      ┆            ┆            ┆            ┆   ┆            ┆           ┆           ┆ 5         │\n",
      "│ 4    ┆ Prada      ┆ L'Homme    ┆ 74.99      ┆ … ┆ null       ┆ null      ┆ null      ┆ 73.070227 │\n",
      "│ …    ┆ …          ┆ …          ┆ …          ┆ … ┆ …          ┆ …         ┆ …         ┆ …         │\n",
      "│ 9162 ┆ Louis      ┆ Extreme    ┆ 24.99      ┆ … ┆ null       ┆ null      ┆ null      ┆ 24.99     │\n",
      "│      ┆ Varel      ┆ Marine     ┆            ┆   ┆            ┆           ┆           ┆           │\n",
      "│ 9163 ┆ Pino       ┆ Pino       ┆ null       ┆ … ┆ null       ┆ null      ┆ null      ┆ 9.451669  │\n",
      "│      ┆ Silvestre  ┆ Silvestre  ┆            ┆   ┆            ┆           ┆           ┆           │\n",
      "│      ┆            ┆ Extreme    ┆            ┆   ┆            ┆           ┆           ┆           │\n",
      "│ 9164 ┆ Alfred     ┆ Sung Spa   ┆ 19.99      ┆ … ┆ null       ┆ null      ┆ null      ┆ 19.99     │\n",
      "│      ┆ Sung       ┆            ┆            ┆   ┆            ┆           ┆           ┆           │\n",
      "│ 9165 ┆ Ella K     ┆ Lettre de  ┆ 211.61     ┆ … ┆ null       ┆ null      ┆ null      ┆ 211.61    │\n",
      "│      ┆ Parfums    ┆ Pushkar    ┆            ┆   ┆            ┆           ┆           ┆           │\n",
      "│ 9166 ┆ Attar      ┆ Oasis      ┆ 74.95      ┆ … ┆ null       ┆ null      ┆ null      ┆ 74.95     │\n",
      "│      ┆ Collection ┆            ┆            ┆   ┆            ┆           ┆           ┆           │\n",
      "└──────┴────────────┴────────────┴────────────┴───┴────────────┴───────────┴───────────┴───────────┘\n"
     ]
    }
   ],
   "source": [
    "# Apply the function to each row\n",
    "df = df.with_columns(pl.Series(\"adjusted_price_100ml\", [compute_adjusted_price(row) for row in df.iter_rows(named=True)]))\n",
    "\n",
    "print(df)"
   ]
  },
  {
   "cell_type": "code",
   "execution_count": 107,
   "metadata": {},
   "outputs": [],
   "source": [
    "df = df.sort(\"adjusted_price_100ml\", descending=True)"
   ]
  },
  {
   "cell_type": "code",
   "execution_count": 110,
   "metadata": {},
   "outputs": [
    {
     "data": {
      "text/html": [
       "<div><style>\n",
       ".dataframe > thead > tr,\n",
       ".dataframe > tbody > tr {\n",
       "  text-align: right;\n",
       "  white-space: pre-wrap;\n",
       "}\n",
       "</style>\n",
       "<small>shape: (9_167, 3)</small><table border=\"1\" class=\"dataframe\"><thead><tr><th>brand</th><th>perfume_name</th><th>adjusted_price_100ml</th></tr><tr><td>str</td><td>str</td><td>f64</td></tr></thead><tbody><tr><td>&quot;Roja Parfums&quot;</td><td>&quot;Roja Dove Haute Parfumerie&quot;</td><td>1672.358972</td></tr><tr><td>&quot;Roja Parfums&quot;</td><td>&quot;Chypré Extraordinaire&quot;</td><td>1654.236576</td></tr><tr><td>&quot;Boadicea the Victorious&quot;</td><td>&quot;Valiant&quot;</td><td>1080.0</td></tr><tr><td>&quot;Boadicea the Victorious&quot;</td><td>&quot;Hanuman&quot;</td><td>1080.0</td></tr><tr><td>&quot;The Spirit of Dubai&quot;</td><td>&quot;Dubai - Oud&quot;</td><td>1019.343695</td></tr><tr><td>&hellip;</td><td>&hellip;</td><td>&hellip;</td></tr><tr><td>&quot;Malizia&quot;</td><td>&quot;Uomo Musk&quot;</td><td>2.653088</td></tr><tr><td>&quot;Malizia&quot;</td><td>&quot;Tattoo&quot;</td><td>2.470116</td></tr><tr><td>&quot;Malizia&quot;</td><td>&quot;Uomo Skyline&quot;</td><td>2.37863</td></tr><tr><td>&quot;Malizia&quot;</td><td>&quot;Oxygen Bubble&quot;</td><td>2.033114</td></tr><tr><td>&quot;Khadlaj&quot;</td><td>&quot;Caffé Latte&quot;</td><td>1.531284</td></tr></tbody></table></div>"
      ],
      "text/plain": [
       "shape: (9_167, 3)\n",
       "┌─────────────────────────┬────────────────────────────┬──────────────────────┐\n",
       "│ brand                   ┆ perfume_name               ┆ adjusted_price_100ml │\n",
       "│ ---                     ┆ ---                        ┆ ---                  │\n",
       "│ str                     ┆ str                        ┆ f64                  │\n",
       "╞═════════════════════════╪════════════════════════════╪══════════════════════╡\n",
       "│ Roja Parfums            ┆ Roja Dove Haute Parfumerie ┆ 1672.358972          │\n",
       "│ Roja Parfums            ┆ Chypré Extraordinaire      ┆ 1654.236576          │\n",
       "│ Boadicea the Victorious ┆ Valiant                    ┆ 1080.0               │\n",
       "│ Boadicea the Victorious ┆ Hanuman                    ┆ 1080.0               │\n",
       "│ The Spirit of Dubai     ┆ Dubai - Oud                ┆ 1019.343695          │\n",
       "│ …                       ┆ …                          ┆ …                    │\n",
       "│ Malizia                 ┆ Uomo Musk                  ┆ 2.653088             │\n",
       "│ Malizia                 ┆ Tattoo                     ┆ 2.470116             │\n",
       "│ Malizia                 ┆ Uomo Skyline               ┆ 2.37863              │\n",
       "│ Malizia                 ┆ Oxygen Bubble              ┆ 2.033114             │\n",
       "│ Khadlaj                 ┆ Caffé Latte                ┆ 1.531284             │\n",
       "└─────────────────────────┴────────────────────────────┴──────────────────────┘"
      ]
     },
     "execution_count": 110,
     "metadata": {},
     "output_type": "execute_result"
    }
   ],
   "source": [
    "df[['brand', 'perfume_name', 'adjusted_price_100ml']]"
   ]
  },
  {
   "cell_type": "code",
   "execution_count": 111,
   "metadata": {},
   "outputs": [],
   "source": [
    "prices = df['adjusted_price_100ml'].to_numpy()"
   ]
  },
  {
   "cell_type": "code",
   "execution_count": 121,
   "metadata": {},
   "outputs": [
    {
     "data": {
      "image/png": "[encoded data removed]",
      "text/plain": [
       "<Figure size 640x480 with 1 Axes>"
      ]
     },
     "metadata": {},
     "output_type": "display_data"
    }
   ],
   "source": [
    "import matplotlib.pyplot as plt\n",
    "import numpy as np\n",
    "\n",
    "filtered_prices = prices[prices<300]\n",
    "\n",
    "sns.histplot(filtered_prices,kde=True, bins=20)\n",
    "plt.show()"
   ]
  },
  {
   "cell_type": "code",
   "execution_count": null,
   "metadata": {},
   "outputs": [],
   "source": []
  }
 ],
 "metadata": {
  "kernelspec": {
   "display_name": "Python 3",
   "language": "python",
   "name": "python3"
  },
  "language_info": {
   "codemirror_mode": {
    "name": "ipython",
    "version": 3
   },
   "file_extension": ".py",
   "mimetype": "text/x-python",
   "name": "python",
   "nbconvert_exporter": "python",
   "pygments_lexer": "ipython3",
   "version": "3.12.0"
  }
 },
 "nbformat": 4,
 "nbformat_minor": 2
}
