{
 "cells": [
  {
   "cell_type": "code",
   "execution_count": null,
   "metadata": {},
   "outputs": [],
   "source": []
  },
  {
   "cell_type": "code",
   "execution_count": 121,
   "metadata": {},
   "outputs": [],
   "source": [
    "import json\n",
    "\n",
    "def get_list2scrape(input, compare):\n",
    "    with open(input, 'r') as f:\n",
    "        input_list = json.load(f)\n",
    "    with open(compare, 'r') as f:\n",
    "        compare_list = json.load(f)\n",
    "\n",
    "    compare_list = [element['url'] for element in compare_list]\n",
    "\n",
    "    diff = list(set(input_list) - set(compare_list))\n",
    "\n",
    "    return input_list, compare_list, diff"
   ]
  },
  {
   "cell_type": "code",
   "execution_count": 130,
   "metadata": {},
   "outputs": [],
   "source": [
    "inp, comp, diff = get_list2scrape('links.json', 'completed_perfumes.json')"
   ]
  },
  {
   "cell_type": "code",
   "execution_count": 131,
   "metadata": {},
   "outputs": [
    {
     "data": {
      "text/plain": [
       "4005"
      ]
     },
     "execution_count": 131,
     "metadata": {},
     "output_type": "execute_result"
    }
   ],
   "source": [
    "len(inp)"
   ]
  },
  {
   "cell_type": "code",
   "execution_count": 132,
   "metadata": {},
   "outputs": [
    {
     "name": "stdout",
     "output_type": "stream",
     "text": [
      "done: 2269\n"
     ]
    }
   ],
   "source": [
    "print(f'done: {len(comp)}')"
   ]
  },
  {
   "cell_type": "code",
   "execution_count": 133,
   "metadata": {},
   "outputs": [
    {
     "name": "stdout",
     "output_type": "stream",
     "text": [
      "left 1736\n"
     ]
    }
   ],
   "source": [
    "print(f'left {len(diff)}')"
   ]
  },
  {
   "cell_type": "code",
   "execution_count": 110,
   "metadata": {},
   "outputs": [
    {
     "data": {
      "text/plain": [
       "['https://www.parfumo.de/Parfums/the-dua-brand/Invasion_of_the_Barbers',\n",
       " 'https://www.parfumo.de/Parfums/Rabanne/phantom-intense',\n",
       " 'https://www.parfumo.de/Parfums/Lancaster/Le_Parfum_Solaire',\n",
       " 'https://www.parfumo.de/Parfums/Issey_Miyake/L_Eau_d_Issey_pour_Homme_Eau_d_Ete_Summer_Edition_2014',\n",
       " 'https://www.parfumo.de/Parfums/der-duft/cinematic',\n",
       " 'https://www.parfumo.de/Parfums/Roja_Parfums/danger-parfum-cologne',\n",
       " 'https://www.parfumo.de/Parfums/Salvador_Dali/Silver_Sun',\n",
       " 'https://www.parfumo.de/Parfums/Roja_Parfums/enigma-parfum-cologne',\n",
       " 'https://www.parfumo.de/Parfums/Roja_Parfums/51-essence-de-parfum',\n",
       " 'https://www.parfumo.de/Parfums/Issey_Miyake/L_Eau_d_Issey_Eau_d_Ete_Summer_Edition_2016',\n",
       " 'https://www.parfumo.de/Parfums/Roja_Parfums/elysium-parfum-cologne-eau-de-parfum',\n",
       " 'https://www.parfumo.de/Parfums/Guerlain/Muguet_2013',\n",
       " 'https://www.parfumo.de/Parfums/Issey_Miyake/L_Eau_d_Issey_pour_Homme_Eau_d_Ete_Summer_Edition_2015',\n",
       " 'https://www.parfumo.de/Parfums/Estee_Lauder/Bronze_Goddess_2013',\n",
       " 'https://www.parfumo.de/Parfums/Jean_Paul_Gaultier/Le_Male_Gladiateur',\n",
       " 'https://www.parfumo.de/Parfums/Dunhill/Icon',\n",
       " 'https://www.parfumo.de/Parfums/Bvlgari/Bvlgari_Man_Wood_Neroli',\n",
       " 'https://www.parfumo.de/Parfums/AtelierPMP/dreckig-bleiben-limited-edition',\n",
       " 'https://www.parfumo.de/Parfums/Byredo/Flowerhead_Eau_de_Parfum',\n",
       " 'https://www.parfumo.de/Parfums/Roja_Parfums/scandal-parfum-cologne']"
      ]
     },
     "execution_count": 110,
     "metadata": {},
     "output_type": "execute_result"
    }
   ],
   "source": [
    "diff"
   ]
  },
  {
   "cell_type": "code",
   "execution_count": 25,
   "metadata": {},
   "outputs": [],
   "source": [
    "file_path = \"short_list.json\"\n",
    "new_entries = [{\"id\": 6, \"name\": \"Charlie\"}, {\"id\": 7, \"name\": \"David\"}]\n",
    "\n",
    "# Open file in append mode and modify JSON manually\n",
    "with open(file_path, \"r+\", encoding=\"utf-8\") as file:\n",
    "    file.seek(0, 2)  # Move to the end of the file\n",
    "    position = file.tell()\n",
    "    \n",
    "    if position > 2:  # If file is not empty, remove the last ']'\n",
    "        file.seek(position - 2)\n",
    "        file.truncate()\n",
    "        file.write(\",\\n\" + json.dumps(new_entries, indent=4)[1:])  # Append new items\n",
    "    else:\n",
    "        file.write(json.dumps(new_entries, indent=4)) "
   ]
  },
  {
   "cell_type": "code",
   "execution_count": null,
   "metadata": {},
   "outputs": [],
   "source": []
  },
  {
   "cell_type": "code",
   "execution_count": null,
   "metadata": {},
   "outputs": [],
   "source": [
    "def save_results(self, results):\n",
    "    \"\"\"Save results to JSON file without overwriting existing data\"\"\"\n",
    "    try:\n",
    "        # Check if the file exists and is not empty\n",
    "        if os.path.exists(self.output_file) and os.path.getsize(self.output_file) > 0:\n",
    "            with open(self.output_file, \"r+\", encoding=\"utf-8\") as f:\n",
    "                try:\n",
    "                    existing_data = json.load(f)  # Load existing data\n",
    "                    if not isinstance(existing_data, list):  # Ensure it's a list\n",
    "                        raise ValueError(\"JSON file does not contain a list.\")\n",
    "                except json.JSONDecodeError:\n",
    "                    existing_data = []  # If corrupted, start fresh\n",
    "\n",
    "                existing_data.extend(results)  # Append new results\n",
    "\n",
    "                f.seek(0)  # Move cursor to the beginning\n",
    "                json.dump(existing_data, f, ensure_ascii=False, indent=2)\n",
    "                f.truncate()  # Remove leftover data if file shrinks\n",
    "        else:\n",
    "            with open(self.output_file, \"w\", encoding=\"utf-8\") as f:\n",
    "                json.dump(results, f, ensure_ascii=False, indent=2)\n",
    "\n",
    "        print(f\"Results saved to {self.output_file}\")\n",
    "\n",
    "    except Exception as e:\n",
    "        print(f\"Error saving results: {e}\")"
   ]
  },
  {
   "cell_type": "code",
   "execution_count": null,
   "metadata": {},
   "outputs": [
    {
     "data": {
      "text/plain": [
       "'臠'"
      ]
     },
     "execution_count": 93,
     "metadata": {},
     "output_type": "execute_result"
    }
   ],
   "source": []
  },
  {
   "cell_type": "code",
   "execution_count": 123,
   "metadata": {},
   "outputs": [],
   "source": [
    "dic =  [\n",
    "                {\n",
    "                    \"r\": \"0\",\n",
    "                    \"v\": 0\n",
    "                },\n",
    "                {\n",
    "                    \"r\": \"1\",\n",
    "                    \"v\": 0\n",
    "                },\n",
    "                {\n",
    "                    \"r\": \"2\",\n",
    "                    \"v\": 0\n",
    "                },\n",
    "                {\n",
    "                    \"r\": \"3\",\n",
    "                    \"v\": 3\n",
    "                },\n",
    "                {\n",
    "                    \"r\": \"4\",\n",
    "                    \"v\": 9\n",
    "                },\n",
    "                {\n",
    "                    \"r\": \"5\",\n",
    "                    \"v\": 9\n",
    "                },\n",
    "                {\n",
    "                    \"r\": \"6\",\n",
    "                    \"v\": 18\n",
    "                },\n",
    "                {\n",
    "                    \"r\": \"7\",\n",
    "                    \"v\": 18\n",
    "                },\n",
    "                {\n",
    "                    \"r\": \"8\",\n",
    "                    \"v\": 4\n",
    "                },\n",
    "                {\n",
    "                    \"r\": \"9\",\n",
    "                    \"v\": 0\n",
    "                },\n",
    "                {\n",
    "                    \"r\": \"10\",\n",
    "                    \"v\": 1\n",
    "                }\n",
    "            ]"
   ]
  },
  {
   "cell_type": "code",
   "execution_count": 124,
   "metadata": {},
   "outputs": [
    {
     "name": "stdout",
     "output_type": "stream",
     "text": [
      "{'r': '0', 'v': 0}\n",
      "{'r': '1', 'v': 0}\n",
      "{'r': '2', 'v': 0}\n",
      "{'r': '3', 'v': 3}\n",
      "{'r': '4', 'v': 9}\n",
      "{'r': '5', 'v': 9}\n",
      "{'r': '6', 'v': 18}\n",
      "{'r': '7', 'v': 18}\n",
      "{'r': '8', 'v': 4}\n",
      "{'r': '9', 'v': 0}\n",
      "{'r': '10', 'v': 1}\n"
     ]
    }
   ],
   "source": [
    "new_dic = {}\n",
    "for element in dic:\n",
    "    print(element)\n",
    "    new_dic[element[\"r\"]] = element[\"v\"]"
   ]
  },
  {
   "cell_type": "code",
   "execution_count": 125,
   "metadata": {},
   "outputs": [
    {
     "data": {
      "text/plain": [
       "{'0': 0,\n",
       " '1': 0,\n",
       " '2': 0,\n",
       " '3': 3,\n",
       " '4': 9,\n",
       " '5': 9,\n",
       " '6': 18,\n",
       " '7': 18,\n",
       " '8': 4,\n",
       " '9': 0,\n",
       " '10': 1}"
      ]
     },
     "execution_count": 125,
     "metadata": {},
     "output_type": "execute_result"
    }
   ],
   "source": [
    "new_dic"
   ]
  },
  {
   "cell_type": "code",
   "execution_count": 1,
   "metadata": {},
   "outputs": [],
   "source": [
    "import json"
   ]
  },
  {
   "cell_type": "code",
   "execution_count": 126,
   "metadata": {},
   "outputs": [],
   "source": [
    "with open('completed_perfumes.json', 'r', encoding='utf-8') as f:\n",
    "    big_dic = json.load(f)\n"
   ]
  },
  {
   "cell_type": "code",
   "execution_count": 127,
   "metadata": {},
   "outputs": [
    {
     "name": "stdout",
     "output_type": "stream",
     "text": [
      "{'scent': [{'r': '0', 'v': 0}, {'r': '1', 'v': 0}, {'r': '2', 'v': 0}, {'r': '3', 'v': 0}, {'r': '4', 'v': 3}, {'r': '5', 'v': 12}, {'r': '6', 'v': 28}, {'r': '7', 'v': 76}, {'r': '8', 'v': 53}, {'r': '9', 'v': 14}, {'r': '10', 'v': 9}], 'durability': [{'r': '0', 'v': 0}, {'r': '1', 'v': 0}, {'r': '2', 'v': 1}, {'r': '3', 'v': 1}, {'r': '4', 'v': 4}, {'r': '5', 'v': 10}, {'r': '6', 'v': 34}, {'r': '7', 'v': 85}, {'r': '8', 'v': 24}, {'r': '9', 'v': 4}, {'r': '10', 'v': 2}], 'sillage': [{'r': '0', 'v': 1}, {'r': '1', 'v': 0}, {'r': '2', 'v': 1}, {'r': '3', 'v': 2}, {'r': '4', 'v': 11}, {'r': '5', 'v': 20}, {'r': '6', 'v': 68}, {'r': '7', 'v': 54}, {'r': '8', 'v': 8}, {'r': '9', 'v': 1}, {'r': '10', 'v': 2}], 'bottle': [{'r': '0', 'v': 0}, {'r': '1', 'v': 0}, {'r': '2', 'v': 1}, {'r': '3', 'v': 0}, {'r': '4', 'v': 0}, {'r': '5', 'v': 5}, {'r': '6', 'v': 24}, {'r': '7', 'v': 51}, {'r': '8', 'v': 46}, {'r': '9', 'v': 13}, {'r': '10', 'v': 9}], 'pricing': [{'r': '0', 'v': 0}, {'r': '1', 'v': 0}, {'r': '2', 'v': 1}, {'r': '3', 'v': 1}, {'r': '4', 'v': 5}, {'r': '5', 'v': 5}, {'r': '6', 'v': 13}, {'r': '7', 'v': 22}, {'r': '8', 'v': 3}, {'r': '9', 'v': 2}, {'r': '10', 'v': 2}]}\n"
     ]
    }
   ],
   "source": [
    "for i in range(1000):\n",
    "    try:\n",
    "        # print(big_dic[i]['detailed_ratings']['scent'][0])\n",
    "        h = 3\n",
    "    except:\n",
    "        print(i)\n",
    "        break\n",
    "\n",
    "print(big_dic[222]['detailed_ratings'])"
   ]
  },
  {
   "cell_type": "code",
   "execution_count": 128,
   "metadata": {},
   "outputs": [],
   "source": [
    "for idx, list_element in enumerate(big_dic):\n",
    "\n",
    "    detailed_ratings = big_dic[idx]['detailed_ratings']\n",
    "\n",
    "    for typ, rating_list in detailed_ratings.items():\n",
    "        buf_dic = {}\n",
    "        if rating_list is not None:\n",
    "            for rating_element in rating_list:\n",
    "                buf_dic[rating_element['r']] = rating_element['v']\n",
    "            detailed_ratings[typ] = buf_dic\n",
    "        else:\n",
    "            detailed_ratings[typ] = None \n",
    "\n",
    "\n",
    "    big_dic[idx]['detailed_ratings'] = detailed_ratings"
   ]
  },
  {
   "cell_type": "code",
   "execution_count": null,
   "metadata": {},
   "outputs": [],
   "source": [
    "with open('perfumes_complete.json', 'w', encoding='utf-8') as file:\n",
    "    json.dump(big_dic, file, indent=2)\n"
   ]
  },
  {
   "cell_type": "markdown",
   "metadata": {},
   "source": [
    "## Check if proxies work?"
   ]
  },
  {
   "cell_type": "code",
   "execution_count": 134,
   "metadata": {},
   "outputs": [],
   "source": [
    "import requests\n",
    "\n",
    "with open('proxies.txt', 'r', encoding='utf-8') as f:\n",
    "    proxies = [line.strip() for line in f if line.strip()]"
   ]
  },
  {
   "cell_type": "code",
   "execution_count": 136,
   "metadata": {},
   "outputs": [],
   "source": [
    "import requests\n",
    "\n",
    "def check_proxy(proxy):\n",
    "    try:\n",
    "        response = requests.get(\"https://httpbin.org/ip\", proxies={\"http\": proxy, \"https\": proxy}, timeout=5)\n",
    "        return response.status_code == 200\n",
    "    except requests.RequestException:\n",
    "        return False"
   ]
  },
  {
   "cell_type": "code",
   "execution_count": 138,
   "metadata": {},
   "outputs": [
    {
     "name": "stdout",
     "output_type": "stream",
     "text": [
      "http://183.240.196.55:38080 is fine\n",
      "http://125.87.86.178:2324 is fine\n",
      "http://67.43.236.19:27047 is fine\n",
      "http://119.96.72.199:59394 is fine\n",
      "http://98.8.195.160:443 is fine\n",
      "http://78.101.91.191:8080 is fine\n",
      "http://38.51.61.53:999 is fine\n",
      "http://203.142.78.197:8080 is fine\n",
      "http://38.51.207.98:999 is fine\n",
      "http://62.33.53.248:3128 is fine\n",
      "http://158.101.175.124:5566 is fine\n",
      "http://201.73.228.20:3128 is fine\n",
      "http://189.240.60.162:9090 is fine\n",
      "http://45.6.1.97:999 is fine\n",
      "http://103.163.80.101:8082 is fine\n",
      "http://103.165.155.68:1111 is fine\n",
      "http://216.229.112.25:8080 is fine\n",
      "http://120.133.37.235:1080 is fine\n",
      "http://36.90.24.5:8080 is fine\n",
      "http://67.43.228.250:18351 is fine\n",
      "http://38.51.48.235:999 is fine\n",
      "http://103.105.54.99:7777 is fine\n",
      "http://59.63.205.36:655 is fine\n",
      "http://41.72.213.182:8090 is fine\n",
      "http://85.132.37.9:1313 is fine\n",
      "http://186.167.80.236:8090 is fine\n",
      "http://45.87.68.9:15321 is fine\n"
     ]
    },
    {
     "ename": "KeyboardInterrupt",
     "evalue": "",
     "output_type": "error",
     "traceback": [
      "\u001b[0;31m---------------------------------------------------------------------------\u001b[0m",
      "\u001b[0;31mKeyboardInterrupt\u001b[0m                         Traceback (most recent call last)",
      "Cell \u001b[0;32mIn[138], line 16\u001b[0m\n\u001b[1;32m     13\u001b[0m proxies \u001b[38;5;241m=\u001b[39m [line\u001b[38;5;241m.\u001b[39mstrip() \u001b[38;5;28;01mfor\u001b[39;00m line \u001b[38;5;129;01min\u001b[39;00m \u001b[38;5;28mopen\u001b[39m(\u001b[38;5;124m\"\u001b[39m\u001b[38;5;124mproxies.txt\u001b[39m\u001b[38;5;124m\"\u001b[39m) \u001b[38;5;28;01mif\u001b[39;00m line\u001b[38;5;241m.\u001b[39mstrip()]\n\u001b[1;32m     15\u001b[0m \u001b[38;5;28;01mwith\u001b[39;00m ThreadPoolExecutor(max_workers\u001b[38;5;241m=\u001b[39m\u001b[38;5;241m10\u001b[39m) \u001b[38;5;28;01mas\u001b[39;00m executor:\n\u001b[0;32m---> 16\u001b[0m     working_proxies \u001b[38;5;241m=\u001b[39m \u001b[38;5;28;43mlist\u001b[39;49m\u001b[43m(\u001b[49m\u001b[38;5;28;43mfilter\u001b[39;49m\u001b[43m(\u001b[49m\u001b[38;5;28;43;01mNone\u001b[39;49;00m\u001b[43m,\u001b[49m\u001b[43m \u001b[49m\u001b[43mexecutor\u001b[49m\u001b[38;5;241;43m.\u001b[39;49m\u001b[43mmap\u001b[49m\u001b[43m(\u001b[49m\u001b[43mcheck_proxy\u001b[49m\u001b[43m,\u001b[49m\u001b[43m \u001b[49m\u001b[43mproxies\u001b[49m\u001b[43m)\u001b[49m\u001b[43m)\u001b[49m\u001b[43m)\u001b[49m\n\u001b[1;32m     18\u001b[0m \u001b[38;5;28mprint\u001b[39m(\u001b[38;5;124m\"\u001b[39m\u001b[38;5;124mWorking proxies:\u001b[39m\u001b[38;5;124m\"\u001b[39m, working_proxies)\n",
      "File \u001b[0;32m/Library/Frameworks/Python.framework/Versions/3.12/lib/python3.12/concurrent/futures/_base.py:619\u001b[0m, in \u001b[0;36mExecutor.map.<locals>.result_iterator\u001b[0;34m()\u001b[0m\n\u001b[1;32m    616\u001b[0m \u001b[38;5;28;01mwhile\u001b[39;00m fs:\n\u001b[1;32m    617\u001b[0m     \u001b[38;5;66;03m# Careful not to keep a reference to the popped future\u001b[39;00m\n\u001b[1;32m    618\u001b[0m     \u001b[38;5;28;01mif\u001b[39;00m timeout \u001b[38;5;129;01mis\u001b[39;00m \u001b[38;5;28;01mNone\u001b[39;00m:\n\u001b[0;32m--> 619\u001b[0m         \u001b[38;5;28;01myield\u001b[39;00m \u001b[43m_result_or_cancel\u001b[49m\u001b[43m(\u001b[49m\u001b[43mfs\u001b[49m\u001b[38;5;241;43m.\u001b[39;49m\u001b[43mpop\u001b[49m\u001b[43m(\u001b[49m\u001b[43m)\u001b[49m\u001b[43m)\u001b[49m\n\u001b[1;32m    620\u001b[0m     \u001b[38;5;28;01melse\u001b[39;00m:\n\u001b[1;32m    621\u001b[0m         \u001b[38;5;28;01myield\u001b[39;00m _result_or_cancel(fs\u001b[38;5;241m.\u001b[39mpop(), end_time \u001b[38;5;241m-\u001b[39m time\u001b[38;5;241m.\u001b[39mmonotonic())\n",
      "File \u001b[0;32m/Library/Frameworks/Python.framework/Versions/3.12/lib/python3.12/concurrent/futures/_base.py:317\u001b[0m, in \u001b[0;36m_result_or_cancel\u001b[0;34m(***failed resolving arguments***)\u001b[0m\n\u001b[1;32m    315\u001b[0m \u001b[38;5;28;01mtry\u001b[39;00m:\n\u001b[1;32m    316\u001b[0m     \u001b[38;5;28;01mtry\u001b[39;00m:\n\u001b[0;32m--> 317\u001b[0m         \u001b[38;5;28;01mreturn\u001b[39;00m \u001b[43mfut\u001b[49m\u001b[38;5;241;43m.\u001b[39;49m\u001b[43mresult\u001b[49m\u001b[43m(\u001b[49m\u001b[43mtimeout\u001b[49m\u001b[43m)\u001b[49m\n\u001b[1;32m    318\u001b[0m     \u001b[38;5;28;01mfinally\u001b[39;00m:\n\u001b[1;32m    319\u001b[0m         fut\u001b[38;5;241m.\u001b[39mcancel()\n",
      "File \u001b[0;32m/Library/Frameworks/Python.framework/Versions/3.12/lib/python3.12/concurrent/futures/_base.py:451\u001b[0m, in \u001b[0;36mFuture.result\u001b[0;34m(self, timeout)\u001b[0m\n\u001b[1;32m    448\u001b[0m \u001b[38;5;28;01melif\u001b[39;00m \u001b[38;5;28mself\u001b[39m\u001b[38;5;241m.\u001b[39m_state \u001b[38;5;241m==\u001b[39m FINISHED:\n\u001b[1;32m    449\u001b[0m     \u001b[38;5;28;01mreturn\u001b[39;00m \u001b[38;5;28mself\u001b[39m\u001b[38;5;241m.\u001b[39m__get_result()\n\u001b[0;32m--> 451\u001b[0m \u001b[38;5;28;43mself\u001b[39;49m\u001b[38;5;241;43m.\u001b[39;49m\u001b[43m_condition\u001b[49m\u001b[38;5;241;43m.\u001b[39;49m\u001b[43mwait\u001b[49m\u001b[43m(\u001b[49m\u001b[43mtimeout\u001b[49m\u001b[43m)\u001b[49m\n\u001b[1;32m    453\u001b[0m \u001b[38;5;28;01mif\u001b[39;00m \u001b[38;5;28mself\u001b[39m\u001b[38;5;241m.\u001b[39m_state \u001b[38;5;129;01min\u001b[39;00m [CANCELLED, CANCELLED_AND_NOTIFIED]:\n\u001b[1;32m    454\u001b[0m     \u001b[38;5;28;01mraise\u001b[39;00m CancelledError()\n",
      "File \u001b[0;32m/Library/Frameworks/Python.framework/Versions/3.12/lib/python3.12/threading.py:334\u001b[0m, in \u001b[0;36mCondition.wait\u001b[0;34m(self, timeout)\u001b[0m\n\u001b[1;32m    332\u001b[0m \u001b[38;5;28;01mtry\u001b[39;00m:    \u001b[38;5;66;03m# restore state no matter what (e.g., KeyboardInterrupt)\u001b[39;00m\n\u001b[1;32m    333\u001b[0m     \u001b[38;5;28;01mif\u001b[39;00m timeout \u001b[38;5;129;01mis\u001b[39;00m \u001b[38;5;28;01mNone\u001b[39;00m:\n\u001b[0;32m--> 334\u001b[0m         \u001b[43mwaiter\u001b[49m\u001b[38;5;241;43m.\u001b[39;49m\u001b[43macquire\u001b[49m\u001b[43m(\u001b[49m\u001b[43m)\u001b[49m\n\u001b[1;32m    335\u001b[0m         gotit \u001b[38;5;241m=\u001b[39m \u001b[38;5;28;01mTrue\u001b[39;00m\n\u001b[1;32m    336\u001b[0m     \u001b[38;5;28;01melse\u001b[39;00m:\n",
      "\u001b[0;31mKeyboardInterrupt\u001b[0m: "
     ]
    }
   ],
   "source": [
    "import requests\n",
    "from concurrent.futures import ThreadPoolExecutor\n",
    "\n",
    "def check_proxy(proxy):\n",
    "    try:\n",
    "        response = requests.get(\"https://httpbin.org/ip\", proxies={\"http\": proxy, \"https\": proxy}, timeout=5)\n",
    "        if response.status_code == 200:\n",
    "            print(f'{proxy} is fine')\n",
    "            return proxy\n",
    "    except requests.RequestException:\n",
    "        return None\n",
    "\n",
    "proxies = [line.strip() for line in open(\"proxies.txt\") if line.strip()]\n",
    "\n",
    "with ThreadPoolExecutor(max_workers=10) as executor:\n",
    "    working_proxies = list(filter(None, executor.map(check_proxy, proxies)))\n",
    "\n",
    "print(\"Working proxies:\", working_proxies)"
   ]
  },
  {
   "cell_type": "code",
   "execution_count": null,
   "metadata": {},
   "outputs": [],
   "source": [
    "import requests\n",
    "from concurrent.futures import ThreadPoolExecutor, as_completed\n",
    "from tqdm import tqdm\n",
    "\n",
    "def check_proxy(proxy):\n",
    "    try:\n",
    "        response = requests.get(\"https://httpbin.org/ip\", proxies={\"http\": proxy, \"https\": proxy}, timeout=5)\n",
    "        if response.status_code == 200:\n",
    "            return proxy\n",
    "    except requests.RequestException:\n",
    "        return None\n",
    "\n",
    "proxies = [line.strip() for line in open(\"proxies.txt\") if line.strip()]\n",
    "working_proxies = []\n",
    "\n",
    "with ThreadPoolExecutor(max_workers=10) as executor:\n",
    "    futures = {executor.submit(check_proxy, proxy): proxy for proxy in proxies}\n",
    "\n",
    "    for future in tqdm(as_completed(futures), total=len(proxies), desc=\"Checking Proxies\"):\n",
    "        result = future.result()\n",
    "        if result:\n",
    "            working_proxies.append(result)\n",
    "\n",
    "print(\"Working proxies:\", working_proxies)"
   ]
  }
 ],
 "metadata": {
  "kernelspec": {
   "display_name": "Python 3",
   "language": "python",
   "name": "python3"
  },
  "language_info": {
   "codemirror_mode": {
    "name": "ipython",
    "version": 3
   },
   "file_extension": ".py",
   "mimetype": "text/x-python",
   "name": "python",
   "nbconvert_exporter": "python",
   "pygments_lexer": "ipython3",
   "version": "3.12.0"
  }
 },
 "nbformat": 4,
 "nbformat_minor": 2
}
