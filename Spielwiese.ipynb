{
 "cells": [
  {
   "cell_type": "code",
   "execution_count": null,
   "metadata": {},
   "outputs": [],
   "source": []
  },
  {
   "cell_type": "code",
   "execution_count": 18,
   "metadata": {},
   "outputs": [],
   "source": [
    "import json\n",
    "\n",
    "def get_list2scrape(input, compare):\n",
    "    with open(input, 'r') as f:\n",
    "        input_list = json.load(f)\n",
    "    with open(compare, 'r') as f:\n",
    "        compare_list = json.load(f)\n",
    "\n",
    "    compare_list = [element['url'] for element in compare_list]\n",
    "\n",
    "    diff = list(set(input_list) - set(compare_list))\n",
    "\n",
    "    return input_list, compare_list, diff"
   ]
  },
  {
   "cell_type": "code",
   "execution_count": 115,
   "metadata": {},
   "outputs": [
    {
     "ename": "JSONDecodeError",
     "evalue": "Expecting value: line 1062514 column 1 (char 25655321)",
     "output_type": "error",
     "traceback": [
      "\u001b[0;31m---------------------------------------------------------------------------\u001b[0m",
      "\u001b[0;31mJSONDecodeError\u001b[0m                           Traceback (most recent call last)",
      "Cell \u001b[0;32mIn[115], line 1\u001b[0m\n\u001b[0;32m----> 1\u001b[0m inp, comp, diff \u001b[38;5;241m=\u001b[39m \u001b[43mget_list2scrape\u001b[49m\u001b[43m(\u001b[49m\u001b[38;5;124;43m'\u001b[39;49m\u001b[38;5;124;43mlinks.json\u001b[39;49m\u001b[38;5;124;43m'\u001b[39;49m\u001b[43m,\u001b[49m\u001b[43m \u001b[49m\u001b[38;5;124;43m'\u001b[39;49m\u001b[38;5;124;43mtest_parallel.json\u001b[39;49m\u001b[38;5;124;43m'\u001b[39;49m\u001b[43m)\u001b[49m\n",
      "Cell \u001b[0;32mIn[18], line 7\u001b[0m, in \u001b[0;36mget_list2scrape\u001b[0;34m(input, compare)\u001b[0m\n\u001b[1;32m      5\u001b[0m     input_list \u001b[38;5;241m=\u001b[39m json\u001b[38;5;241m.\u001b[39mload(f)\n\u001b[1;32m      6\u001b[0m \u001b[38;5;28;01mwith\u001b[39;00m \u001b[38;5;28mopen\u001b[39m(compare, \u001b[38;5;124m'\u001b[39m\u001b[38;5;124mr\u001b[39m\u001b[38;5;124m'\u001b[39m) \u001b[38;5;28;01mas\u001b[39;00m f:\n\u001b[0;32m----> 7\u001b[0m     compare_list \u001b[38;5;241m=\u001b[39m \u001b[43mjson\u001b[49m\u001b[38;5;241;43m.\u001b[39;49m\u001b[43mload\u001b[49m\u001b[43m(\u001b[49m\u001b[43mf\u001b[49m\u001b[43m)\u001b[49m\n\u001b[1;32m      9\u001b[0m compare_list \u001b[38;5;241m=\u001b[39m [element[\u001b[38;5;124m'\u001b[39m\u001b[38;5;124murl\u001b[39m\u001b[38;5;124m'\u001b[39m] \u001b[38;5;28;01mfor\u001b[39;00m element \u001b[38;5;129;01min\u001b[39;00m compare_list]\n\u001b[1;32m     11\u001b[0m diff \u001b[38;5;241m=\u001b[39m \u001b[38;5;28mlist\u001b[39m(\u001b[38;5;28mset\u001b[39m(input_list) \u001b[38;5;241m-\u001b[39m \u001b[38;5;28mset\u001b[39m(compare_list))\n",
      "File \u001b[0;32m/Library/Frameworks/Python.framework/Versions/3.12/lib/python3.12/json/__init__.py:293\u001b[0m, in \u001b[0;36mload\u001b[0;34m(fp, cls, object_hook, parse_float, parse_int, parse_constant, object_pairs_hook, **kw)\u001b[0m\n\u001b[1;32m    274\u001b[0m \u001b[38;5;28;01mdef\u001b[39;00m \u001b[38;5;21mload\u001b[39m(fp, \u001b[38;5;241m*\u001b[39m, \u001b[38;5;28mcls\u001b[39m\u001b[38;5;241m=\u001b[39m\u001b[38;5;28;01mNone\u001b[39;00m, object_hook\u001b[38;5;241m=\u001b[39m\u001b[38;5;28;01mNone\u001b[39;00m, parse_float\u001b[38;5;241m=\u001b[39m\u001b[38;5;28;01mNone\u001b[39;00m,\n\u001b[1;32m    275\u001b[0m         parse_int\u001b[38;5;241m=\u001b[39m\u001b[38;5;28;01mNone\u001b[39;00m, parse_constant\u001b[38;5;241m=\u001b[39m\u001b[38;5;28;01mNone\u001b[39;00m, object_pairs_hook\u001b[38;5;241m=\u001b[39m\u001b[38;5;28;01mNone\u001b[39;00m, \u001b[38;5;241m*\u001b[39m\u001b[38;5;241m*\u001b[39mkw):\n\u001b[1;32m    276\u001b[0m \u001b[38;5;250m    \u001b[39m\u001b[38;5;124;03m\"\"\"Deserialize ``fp`` (a ``.read()``-supporting file-like object containing\u001b[39;00m\n\u001b[1;32m    277\u001b[0m \u001b[38;5;124;03m    a JSON document) to a Python object.\u001b[39;00m\n\u001b[1;32m    278\u001b[0m \n\u001b[0;32m   (...)\u001b[0m\n\u001b[1;32m    291\u001b[0m \u001b[38;5;124;03m    kwarg; otherwise ``JSONDecoder`` is used.\u001b[39;00m\n\u001b[1;32m    292\u001b[0m \u001b[38;5;124;03m    \"\"\"\u001b[39;00m\n\u001b[0;32m--> 293\u001b[0m     \u001b[38;5;28;01mreturn\u001b[39;00m \u001b[43mloads\u001b[49m\u001b[43m(\u001b[49m\u001b[43mfp\u001b[49m\u001b[38;5;241;43m.\u001b[39;49m\u001b[43mread\u001b[49m\u001b[43m(\u001b[49m\u001b[43m)\u001b[49m\u001b[43m,\u001b[49m\n\u001b[1;32m    294\u001b[0m \u001b[43m        \u001b[49m\u001b[38;5;28;43mcls\u001b[39;49m\u001b[38;5;241;43m=\u001b[39;49m\u001b[38;5;28;43mcls\u001b[39;49m\u001b[43m,\u001b[49m\u001b[43m \u001b[49m\u001b[43mobject_hook\u001b[49m\u001b[38;5;241;43m=\u001b[39;49m\u001b[43mobject_hook\u001b[49m\u001b[43m,\u001b[49m\n\u001b[1;32m    295\u001b[0m \u001b[43m        \u001b[49m\u001b[43mparse_float\u001b[49m\u001b[38;5;241;43m=\u001b[39;49m\u001b[43mparse_float\u001b[49m\u001b[43m,\u001b[49m\u001b[43m \u001b[49m\u001b[43mparse_int\u001b[49m\u001b[38;5;241;43m=\u001b[39;49m\u001b[43mparse_int\u001b[49m\u001b[43m,\u001b[49m\n\u001b[1;32m    296\u001b[0m \u001b[43m        \u001b[49m\u001b[43mparse_constant\u001b[49m\u001b[38;5;241;43m=\u001b[39;49m\u001b[43mparse_constant\u001b[49m\u001b[43m,\u001b[49m\u001b[43m \u001b[49m\u001b[43mobject_pairs_hook\u001b[49m\u001b[38;5;241;43m=\u001b[39;49m\u001b[43mobject_pairs_hook\u001b[49m\u001b[43m,\u001b[49m\u001b[43m \u001b[49m\u001b[38;5;241;43m*\u001b[39;49m\u001b[38;5;241;43m*\u001b[39;49m\u001b[43mkw\u001b[49m\u001b[43m)\u001b[49m\n",
      "File \u001b[0;32m/Library/Frameworks/Python.framework/Versions/3.12/lib/python3.12/json/__init__.py:346\u001b[0m, in \u001b[0;36mloads\u001b[0;34m(s, cls, object_hook, parse_float, parse_int, parse_constant, object_pairs_hook, **kw)\u001b[0m\n\u001b[1;32m    341\u001b[0m     s \u001b[38;5;241m=\u001b[39m s\u001b[38;5;241m.\u001b[39mdecode(detect_encoding(s), \u001b[38;5;124m'\u001b[39m\u001b[38;5;124msurrogatepass\u001b[39m\u001b[38;5;124m'\u001b[39m)\n\u001b[1;32m    343\u001b[0m \u001b[38;5;28;01mif\u001b[39;00m (\u001b[38;5;28mcls\u001b[39m \u001b[38;5;129;01mis\u001b[39;00m \u001b[38;5;28;01mNone\u001b[39;00m \u001b[38;5;129;01mand\u001b[39;00m object_hook \u001b[38;5;129;01mis\u001b[39;00m \u001b[38;5;28;01mNone\u001b[39;00m \u001b[38;5;129;01mand\u001b[39;00m\n\u001b[1;32m    344\u001b[0m         parse_int \u001b[38;5;129;01mis\u001b[39;00m \u001b[38;5;28;01mNone\u001b[39;00m \u001b[38;5;129;01mand\u001b[39;00m parse_float \u001b[38;5;129;01mis\u001b[39;00m \u001b[38;5;28;01mNone\u001b[39;00m \u001b[38;5;129;01mand\u001b[39;00m\n\u001b[1;32m    345\u001b[0m         parse_constant \u001b[38;5;129;01mis\u001b[39;00m \u001b[38;5;28;01mNone\u001b[39;00m \u001b[38;5;129;01mand\u001b[39;00m object_pairs_hook \u001b[38;5;129;01mis\u001b[39;00m \u001b[38;5;28;01mNone\u001b[39;00m \u001b[38;5;129;01mand\u001b[39;00m \u001b[38;5;129;01mnot\u001b[39;00m kw):\n\u001b[0;32m--> 346\u001b[0m     \u001b[38;5;28;01mreturn\u001b[39;00m \u001b[43m_default_decoder\u001b[49m\u001b[38;5;241;43m.\u001b[39;49m\u001b[43mdecode\u001b[49m\u001b[43m(\u001b[49m\u001b[43ms\u001b[49m\u001b[43m)\u001b[49m\n\u001b[1;32m    347\u001b[0m \u001b[38;5;28;01mif\u001b[39;00m \u001b[38;5;28mcls\u001b[39m \u001b[38;5;129;01mis\u001b[39;00m \u001b[38;5;28;01mNone\u001b[39;00m:\n\u001b[1;32m    348\u001b[0m     \u001b[38;5;28mcls\u001b[39m \u001b[38;5;241m=\u001b[39m JSONDecoder\n",
      "File \u001b[0;32m/Library/Frameworks/Python.framework/Versions/3.12/lib/python3.12/json/decoder.py:337\u001b[0m, in \u001b[0;36mJSONDecoder.decode\u001b[0;34m(self, s, _w)\u001b[0m\n\u001b[1;32m    332\u001b[0m \u001b[38;5;28;01mdef\u001b[39;00m \u001b[38;5;21mdecode\u001b[39m(\u001b[38;5;28mself\u001b[39m, s, _w\u001b[38;5;241m=\u001b[39mWHITESPACE\u001b[38;5;241m.\u001b[39mmatch):\n\u001b[1;32m    333\u001b[0m \u001b[38;5;250m    \u001b[39m\u001b[38;5;124;03m\"\"\"Return the Python representation of ``s`` (a ``str`` instance\u001b[39;00m\n\u001b[1;32m    334\u001b[0m \u001b[38;5;124;03m    containing a JSON document).\u001b[39;00m\n\u001b[1;32m    335\u001b[0m \n\u001b[1;32m    336\u001b[0m \u001b[38;5;124;03m    \"\"\"\u001b[39;00m\n\u001b[0;32m--> 337\u001b[0m     obj, end \u001b[38;5;241m=\u001b[39m \u001b[38;5;28;43mself\u001b[39;49m\u001b[38;5;241;43m.\u001b[39;49m\u001b[43mraw_decode\u001b[49m\u001b[43m(\u001b[49m\u001b[43ms\u001b[49m\u001b[43m,\u001b[49m\u001b[43m \u001b[49m\u001b[43midx\u001b[49m\u001b[38;5;241;43m=\u001b[39;49m\u001b[43m_w\u001b[49m\u001b[43m(\u001b[49m\u001b[43ms\u001b[49m\u001b[43m,\u001b[49m\u001b[43m \u001b[49m\u001b[38;5;241;43m0\u001b[39;49m\u001b[43m)\u001b[49m\u001b[38;5;241;43m.\u001b[39;49m\u001b[43mend\u001b[49m\u001b[43m(\u001b[49m\u001b[43m)\u001b[49m\u001b[43m)\u001b[49m\n\u001b[1;32m    338\u001b[0m     end \u001b[38;5;241m=\u001b[39m _w(s, end)\u001b[38;5;241m.\u001b[39mend()\n\u001b[1;32m    339\u001b[0m     \u001b[38;5;28;01mif\u001b[39;00m end \u001b[38;5;241m!=\u001b[39m \u001b[38;5;28mlen\u001b[39m(s):\n",
      "File \u001b[0;32m/Library/Frameworks/Python.framework/Versions/3.12/lib/python3.12/json/decoder.py:355\u001b[0m, in \u001b[0;36mJSONDecoder.raw_decode\u001b[0;34m(self, s, idx)\u001b[0m\n\u001b[1;32m    353\u001b[0m     obj, end \u001b[38;5;241m=\u001b[39m \u001b[38;5;28mself\u001b[39m\u001b[38;5;241m.\u001b[39mscan_once(s, idx)\n\u001b[1;32m    354\u001b[0m \u001b[38;5;28;01mexcept\u001b[39;00m \u001b[38;5;167;01mStopIteration\u001b[39;00m \u001b[38;5;28;01mas\u001b[39;00m err:\n\u001b[0;32m--> 355\u001b[0m     \u001b[38;5;28;01mraise\u001b[39;00m JSONDecodeError(\u001b[38;5;124m\"\u001b[39m\u001b[38;5;124mExpecting value\u001b[39m\u001b[38;5;124m\"\u001b[39m, s, err\u001b[38;5;241m.\u001b[39mvalue) \u001b[38;5;28;01mfrom\u001b[39;00m \u001b[38;5;28;01mNone\u001b[39;00m\n\u001b[1;32m    356\u001b[0m \u001b[38;5;28;01mreturn\u001b[39;00m obj, end\n",
      "\u001b[0;31mJSONDecodeError\u001b[0m: Expecting value: line 1062514 column 1 (char 25655321)"
     ]
    }
   ],
   "source": [
    "inp, comp, diff = get_list2scrape('links.json', 'test_parallel.json')"
   ]
  },
  {
   "cell_type": "code",
   "execution_count": 116,
   "metadata": {},
   "outputs": [
    {
     "data": {
      "text/plain": [
       "4005"
      ]
     },
     "execution_count": 116,
     "metadata": {},
     "output_type": "execute_result"
    }
   ],
   "source": [
    "len(inp)"
   ]
  },
  {
   "cell_type": "code",
   "execution_count": 113,
   "metadata": {},
   "outputs": [
    {
     "name": "stdout",
     "output_type": "stream",
     "text": [
      "done: 3994\n"
     ]
    }
   ],
   "source": [
    "print(f'done: {len(comp)}')"
   ]
  },
  {
   "cell_type": "code",
   "execution_count": 114,
   "metadata": {},
   "outputs": [
    {
     "name": "stdout",
     "output_type": "stream",
     "text": [
      "left 11\n"
     ]
    }
   ],
   "source": [
    "print(f'left {len(diff)}')"
   ]
  },
  {
   "cell_type": "code",
   "execution_count": 110,
   "metadata": {},
   "outputs": [
    {
     "data": {
      "text/plain": [
       "['https://www.parfumo.de/Parfums/the-dua-brand/Invasion_of_the_Barbers',\n",
       " 'https://www.parfumo.de/Parfums/Rabanne/phantom-intense',\n",
       " 'https://www.parfumo.de/Parfums/Lancaster/Le_Parfum_Solaire',\n",
       " 'https://www.parfumo.de/Parfums/Issey_Miyake/L_Eau_d_Issey_pour_Homme_Eau_d_Ete_Summer_Edition_2014',\n",
       " 'https://www.parfumo.de/Parfums/der-duft/cinematic',\n",
       " 'https://www.parfumo.de/Parfums/Roja_Parfums/danger-parfum-cologne',\n",
       " 'https://www.parfumo.de/Parfums/Salvador_Dali/Silver_Sun',\n",
       " 'https://www.parfumo.de/Parfums/Roja_Parfums/enigma-parfum-cologne',\n",
       " 'https://www.parfumo.de/Parfums/Roja_Parfums/51-essence-de-parfum',\n",
       " 'https://www.parfumo.de/Parfums/Issey_Miyake/L_Eau_d_Issey_Eau_d_Ete_Summer_Edition_2016',\n",
       " 'https://www.parfumo.de/Parfums/Roja_Parfums/elysium-parfum-cologne-eau-de-parfum',\n",
       " 'https://www.parfumo.de/Parfums/Guerlain/Muguet_2013',\n",
       " 'https://www.parfumo.de/Parfums/Issey_Miyake/L_Eau_d_Issey_pour_Homme_Eau_d_Ete_Summer_Edition_2015',\n",
       " 'https://www.parfumo.de/Parfums/Estee_Lauder/Bronze_Goddess_2013',\n",
       " 'https://www.parfumo.de/Parfums/Jean_Paul_Gaultier/Le_Male_Gladiateur',\n",
       " 'https://www.parfumo.de/Parfums/Dunhill/Icon',\n",
       " 'https://www.parfumo.de/Parfums/Bvlgari/Bvlgari_Man_Wood_Neroli',\n",
       " 'https://www.parfumo.de/Parfums/AtelierPMP/dreckig-bleiben-limited-edition',\n",
       " 'https://www.parfumo.de/Parfums/Byredo/Flowerhead_Eau_de_Parfum',\n",
       " 'https://www.parfumo.de/Parfums/Roja_Parfums/scandal-parfum-cologne']"
      ]
     },
     "execution_count": 110,
     "metadata": {},
     "output_type": "execute_result"
    }
   ],
   "source": [
    "diff"
   ]
  },
  {
   "cell_type": "code",
   "execution_count": 25,
   "metadata": {},
   "outputs": [],
   "source": [
    "file_path = \"short_list.json\"\n",
    "new_entries = [{\"id\": 6, \"name\": \"Charlie\"}, {\"id\": 7, \"name\": \"David\"}]\n",
    "\n",
    "# Open file in append mode and modify JSON manually\n",
    "with open(file_path, \"r+\", encoding=\"utf-8\") as file:\n",
    "    file.seek(0, 2)  # Move to the end of the file\n",
    "    position = file.tell()\n",
    "    \n",
    "    if position > 2:  # If file is not empty, remove the last ']'\n",
    "        file.seek(position - 2)\n",
    "        file.truncate()\n",
    "        file.write(\",\\n\" + json.dumps(new_entries, indent=4)[1:])  # Append new items\n",
    "    else:\n",
    "        file.write(json.dumps(new_entries, indent=4)) "
   ]
  },
  {
   "cell_type": "code",
   "execution_count": null,
   "metadata": {},
   "outputs": [],
   "source": []
  },
  {
   "cell_type": "code",
   "execution_count": null,
   "metadata": {},
   "outputs": [],
   "source": [
    "def save_results(self, results):\n",
    "    \"\"\"Save results to JSON file without overwriting existing data\"\"\"\n",
    "    try:\n",
    "        # Check if the file exists and is not empty\n",
    "        if os.path.exists(self.output_file) and os.path.getsize(self.output_file) > 0:\n",
    "            with open(self.output_file, \"r+\", encoding=\"utf-8\") as f:\n",
    "                try:\n",
    "                    existing_data = json.load(f)  # Load existing data\n",
    "                    if not isinstance(existing_data, list):  # Ensure it's a list\n",
    "                        raise ValueError(\"JSON file does not contain a list.\")\n",
    "                except json.JSONDecodeError:\n",
    "                    existing_data = []  # If corrupted, start fresh\n",
    "\n",
    "                existing_data.extend(results)  # Append new results\n",
    "\n",
    "                f.seek(0)  # Move cursor to the beginning\n",
    "                json.dump(existing_data, f, ensure_ascii=False, indent=2)\n",
    "                f.truncate()  # Remove leftover data if file shrinks\n",
    "        else:\n",
    "            with open(self.output_file, \"w\", encoding=\"utf-8\") as f:\n",
    "                json.dump(results, f, ensure_ascii=False, indent=2)\n",
    "\n",
    "        print(f\"Results saved to {self.output_file}\")\n",
    "\n",
    "    except Exception as e:\n",
    "        print(f\"Error saving results: {e}\")"
   ]
  },
  {
   "cell_type": "code",
   "execution_count": null,
   "metadata": {},
   "outputs": [
    {
     "data": {
      "text/plain": [
       "'臠'"
      ]
     },
     "execution_count": 93,
     "metadata": {},
     "output_type": "execute_result"
    }
   ],
   "source": []
  },
  {
   "cell_type": "code",
   "execution_count": 123,
   "metadata": {},
   "outputs": [],
   "source": [
    "dic =  [\n",
    "                {\n",
    "                    \"r\": \"0\",\n",
    "                    \"v\": 0\n",
    "                },\n",
    "                {\n",
    "                    \"r\": \"1\",\n",
    "                    \"v\": 0\n",
    "                },\n",
    "                {\n",
    "                    \"r\": \"2\",\n",
    "                    \"v\": 0\n",
    "                },\n",
    "                {\n",
    "                    \"r\": \"3\",\n",
    "                    \"v\": 3\n",
    "                },\n",
    "                {\n",
    "                    \"r\": \"4\",\n",
    "                    \"v\": 9\n",
    "                },\n",
    "                {\n",
    "                    \"r\": \"5\",\n",
    "                    \"v\": 9\n",
    "                },\n",
    "                {\n",
    "                    \"r\": \"6\",\n",
    "                    \"v\": 18\n",
    "                },\n",
    "                {\n",
    "                    \"r\": \"7\",\n",
    "                    \"v\": 18\n",
    "                },\n",
    "                {\n",
    "                    \"r\": \"8\",\n",
    "                    \"v\": 4\n",
    "                },\n",
    "                {\n",
    "                    \"r\": \"9\",\n",
    "                    \"v\": 0\n",
    "                },\n",
    "                {\n",
    "                    \"r\": \"10\",\n",
    "                    \"v\": 1\n",
    "                }\n",
    "            ]"
   ]
  },
  {
   "cell_type": "code",
   "execution_count": 124,
   "metadata": {},
   "outputs": [
    {
     "name": "stdout",
     "output_type": "stream",
     "text": [
      "{'r': '0', 'v': 0}\n",
      "{'r': '1', 'v': 0}\n",
      "{'r': '2', 'v': 0}\n",
      "{'r': '3', 'v': 3}\n",
      "{'r': '4', 'v': 9}\n",
      "{'r': '5', 'v': 9}\n",
      "{'r': '6', 'v': 18}\n",
      "{'r': '7', 'v': 18}\n",
      "{'r': '8', 'v': 4}\n",
      "{'r': '9', 'v': 0}\n",
      "{'r': '10', 'v': 1}\n"
     ]
    }
   ],
   "source": [
    "new_dic = {}\n",
    "for element in dic:\n",
    "    print(element)\n",
    "    new_dic[element[\"r\"]] = element[\"v\"]"
   ]
  },
  {
   "cell_type": "code",
   "execution_count": 125,
   "metadata": {},
   "outputs": [
    {
     "data": {
      "text/plain": [
       "{'0': 0,\n",
       " '1': 0,\n",
       " '2': 0,\n",
       " '3': 3,\n",
       " '4': 9,\n",
       " '5': 9,\n",
       " '6': 18,\n",
       " '7': 18,\n",
       " '8': 4,\n",
       " '9': 0,\n",
       " '10': 1}"
      ]
     },
     "execution_count": 125,
     "metadata": {},
     "output_type": "execute_result"
    }
   ],
   "source": [
    "new_dic"
   ]
  },
  {
   "cell_type": "code",
   "execution_count": 1,
   "metadata": {},
   "outputs": [],
   "source": [
    "import json"
   ]
  },
  {
   "cell_type": "code",
   "execution_count": 118,
   "metadata": {},
   "outputs": [],
   "source": [
    "with open('test_parallel.json', 'r', encoding='utf-8') as f:\n",
    "    big_dic = json.load(f)\n"
   ]
  },
  {
   "cell_type": "code",
   "execution_count": 16,
   "metadata": {},
   "outputs": [
    {
     "name": "stdout",
     "output_type": "stream",
     "text": [
      "{'scent': None, 'durability': [{'r': '0', 'v': 1}, {'r': '1', 'v': 0}, {'r': '2', 'v': 0}, {'r': '3', 'v': 0}, {'r': '4', 'v': 0}, {'r': '5', 'v': 1}, {'r': '6', 'v': 2}, {'r': '7', 'v': 49}, {'r': '8', 'v': 34}, {'r': '9', 'v': 22}, {'r': '10', 'v': 30}], 'sillage': [{'r': '0', 'v': 0}, {'r': '1', 'v': 0}, {'r': '2', 'v': 1}, {'r': '3', 'v': 0}, {'r': '4', 'v': 0}, {'r': '5', 'v': 6}, {'r': '6', 'v': 4}, {'r': '7', 'v': 72}, {'r': '8', 'v': 31}, {'r': '9', 'v': 10}, {'r': '10', 'v': 16}], 'bottle': [{'r': '0', 'v': 0}, {'r': '1', 'v': 1}, {'r': '2', 'v': 6}, {'r': '3', 'v': 0}, {'r': '4', 'v': 0}, {'r': '5', 'v': 48}, {'r': '6', 'v': 24}, {'r': '7', 'v': 28}, {'r': '8', 'v': 13}, {'r': '9', 'v': 3}, {'r': '10', 'v': 4}], 'pricing': [{'r': '0', 'v': 0}, {'r': '1', 'v': 0}, {'r': '2', 'v': 0}, {'r': '3', 'v': 0}, {'r': '4', 'v': 0}, {'r': '5', 'v': 1}, {'r': '6', 'v': 0}, {'r': '7', 'v': 6}, {'r': '8', 'v': 2}, {'r': '9', 'v': 2}, {'r': '10', 'v': 0}]}\n"
     ]
    }
   ],
   "source": [
    "for i in range(1000):\n",
    "    try:\n",
    "        # print(big_dic[i]['detailed_ratings']['scent'][0])\n",
    "        h = 3\n",
    "    except:\n",
    "        print(i)\n",
    "        break\n",
    "\n",
    "print(big_dic[222]['detailed_ratings'])"
   ]
  },
  {
   "cell_type": "code",
   "execution_count": 119,
   "metadata": {},
   "outputs": [],
   "source": [
    "for idx, list_element in enumerate(big_dic):\n",
    "\n",
    "    detailed_ratings = big_dic[idx]['detailed_ratings']\n",
    "\n",
    "    for typ, rating_list in detailed_ratings.items():\n",
    "        buf_dic = {}\n",
    "        if rating_list is not None:\n",
    "            for rating_element in rating_list:\n",
    "                buf_dic[rating_element['r']] = rating_element['v']\n",
    "            detailed_ratings[typ] = buf_dic\n",
    "        else:\n",
    "            detailed_ratings[typ] = None \n",
    "\n",
    "\n",
    "    big_dic[idx]['detailed_ratings'] = detailed_ratings"
   ]
  },
  {
   "cell_type": "code",
   "execution_count": 120,
   "metadata": {},
   "outputs": [],
   "source": [
    "with open('corrected_perfumes.json', 'w', encoding='utf-8') as file:\n",
    "    json.dump(big_dic, file, indent=2)"
   ]
  },
  {
   "cell_type": "code",
   "execution_count": null,
   "metadata": {},
   "outputs": [],
   "source": []
  }
 ],
 "metadata": {
  "kernelspec": {
   "display_name": "Python 3",
   "language": "python",
   "name": "python3"
  },
  "language_info": {
   "codemirror_mode": {
    "name": "ipython",
    "version": 3
   },
   "file_extension": ".py",
   "mimetype": "text/x-python",
   "name": "python",
   "nbconvert_exporter": "python",
   "pygments_lexer": "ipython3",
   "version": "3.12.0"
  }
 },
 "nbformat": 4,
 "nbformat_minor": 2
}
